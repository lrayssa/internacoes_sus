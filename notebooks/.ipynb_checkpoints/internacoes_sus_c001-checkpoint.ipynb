{
 "cells": [
  {
   "cell_type": "markdown",
   "id": "38486c23",
   "metadata": {},
   "source": [
    "**Exercício 1: Análise de Internações no Sistema de Saúde Brasileiro**\n",
    "\n",
    "<p>Você foi contratado(a) para fazer uma análise apurada do número de internações no\n",
    "sistema de saúde brasileiro. Esta análise é de extrema importância para tomada de\n",
    "decisões que deverão contribuir para melhorias no sistema e planejamento estratégico.\n",
    "Os dados em anexo (case_internacao_SUS.xls) são referentes às internações que\n",
    "ocorreram no país durante o período de dezembro de 2017 a julho de 2019, separados\n",
    "por região e unidade de federação (Fonte: Ministério da Saúde - Sistema de Informações\n",
    "Hospitalares do SUS (SIH/SUS)).\n",
    "Acesse http://tabnet.datasus.gov.br/cgi/sih/sxdescr.htm para obter uma descrição\n",
    "detalhada dos dados.</p>\n",
    "\n",
    "Desafios:<br>\n",
    "**1. Tratamento dos dados**\n",
    "\n",
    "    1.1. Muitas vezes, cerca de 70% do tempo de um projeto é despendido na coleta e tratamento dos dados. Sabendo disso, leia o arquivo e o transforme de modo a ter mais facilidade em analisar os dados. Lembre-se que essa etapa poderá te dar bons insumos. Portanto, capriche!\n",
    " \n",
    "**2. Análise**\n",
    "\n",
    "     2.1. Dados tratados, bora explorá-los? Faça uma boa EDA e não esqueça de anotar todos os insights que você obter. Gráficos e informações sem uma boa interpretação não valem, ok?\n",
    "     \n",
    "**3. Modelagem**\n",
    "\n",
    "     3.1. Agora que já tem certa intimidade com os dados, cite pelo menos 2 métodos possíveis para estimar os dados para os meses faltantes. Tente não se complicaraqui. Utilize os métodos mais simples e mais funcionais possíveis. Neste tópico,é importante que argumente o porquê dos métodos recomendados.\n",
    "            \n",
    "    3.2. Escolha um desses métodos e estime a) o número de Internações e b) o Valor Total das internações nos períodos faltantes.\n",
    "    \n",
    "    3.3. Crie um modelo que preveja a) as Internações, b) o número de Óbitos e c) o Valor Médio de AIH pelos próximos 6 meses. Explique a escolha do modelo e quais parâmetros utilizou para serem input no modelo.\n",
    "    \n",
    "**4. Planejamento estratégico**\n",
    "\n",
    "    4.1. Com base nos dados e nas suas análises, que tipo de estratégia você sugeriria para diminuir o número de internações em hospitais do SUS? E para o Estado de São Paulo? Quais especificidades deveriam ser levadas em conta? \n",
    "    \n",
    " <p>Ao final, escreva um relatório contendo todos os gráficos gerados bem como as argumentações, análises e insights de sua EDA (item 2.1). Neste relatório também\n",
    "deverá conter a argumentação do porquê dos métodos citados no item 3.1 são cabíveis\n",
    "aos dados disponibilizados. Além disso, devem ser incorporadas ao relatório as análises\n",
    "ou argumentos que te levaram a optar pelo método escolhido para a modelagem\n",
    "requerida nos itens 3.2 e 3.3. Não esqueça de anexar ao relatório toda argumentação e\n",
    "apontamentos para o questionamento feito no item 4.1.</p>"
   ]
  },
  {
   "cell_type": "markdown",
   "id": "fe66a427",
   "metadata": {},
   "source": [
    "\n",
    "# 0.0 Imports"
   ]
  },
  {
   "cell_type": "code",
   "execution_count": 1,
   "id": "605d31a4",
   "metadata": {
    "ExecuteTime": {
     "end_time": "2021-11-11T04:13:47.544787Z",
     "start_time": "2021-11-11T04:13:46.585770Z"
    }
   },
   "outputs": [
    {
     "ename": "ModuleNotFoundError",
     "evalue": "No module named 'inflection'",
     "output_type": "error",
     "traceback": [
      "\u001b[0;31m---------------------------------------------------------------------------\u001b[0m",
      "\u001b[0;31mModuleNotFoundError\u001b[0m                       Traceback (most recent call last)",
      "\u001b[0;32m/tmp/ipykernel_71176/1479792036.py\u001b[0m in \u001b[0;36m<module>\u001b[0;34m\u001b[0m\n\u001b[1;32m      2\u001b[0m \u001b[0;34m\u001b[0m\u001b[0m\n\u001b[1;32m      3\u001b[0m \u001b[0;32mimport\u001b[0m \u001b[0mpandas\u001b[0m \u001b[0;32mas\u001b[0m \u001b[0mpd\u001b[0m\u001b[0;34m\u001b[0m\u001b[0;34m\u001b[0m\u001b[0m\n\u001b[0;32m----> 4\u001b[0;31m \u001b[0;32mimport\u001b[0m \u001b[0minflection\u001b[0m\u001b[0;34m\u001b[0m\u001b[0;34m\u001b[0m\u001b[0m\n\u001b[0m\u001b[1;32m      5\u001b[0m \u001b[0;32mimport\u001b[0m \u001b[0mnumpy\u001b[0m \u001b[0;32mas\u001b[0m \u001b[0mnp\u001b[0m\u001b[0;34m\u001b[0m\u001b[0;34m\u001b[0m\u001b[0m\n\u001b[1;32m      6\u001b[0m \u001b[0;32mimport\u001b[0m \u001b[0mseaborn\u001b[0m \u001b[0;32mas\u001b[0m \u001b[0msns\u001b[0m\u001b[0;34m\u001b[0m\u001b[0;34m\u001b[0m\u001b[0m\n",
      "\u001b[0;31mModuleNotFoundError\u001b[0m: No module named 'inflection'"
     ]
    }
   ],
   "source": [
    "import warnings\n",
    "\n",
    "import pandas as pd\n",
    "import inflection\n",
    "import numpy as np\n",
    "import seaborn as sns\n",
    "import matplotlib.pyplot as plt\n",
    "\n",
    "\n",
    "from IPython.core.display  import HTML\n",
    "from IPython.display       import Image\n",
    "from datetime import datetime\n",
    "from statsmodels.tsa.stattools import adfuller\n",
    "from pmdarima.arima import auto_arima"
   ]
  },
  {
   "cell_type": "markdown",
   "id": "915fe55c",
   "metadata": {},
   "source": [
    "## 0.1 Funções auxiliares"
   ]
  },
  {
   "cell_type": "code",
   "execution_count": null,
   "id": "a058a694",
   "metadata": {
    "ExecuteTime": {
     "end_time": "2021-11-11T04:13:47.554867Z",
     "start_time": "2021-11-11T04:13:47.554850Z"
    }
   },
   "outputs": [],
   "source": [
    "def jupyter_settings():\n",
    "    %matplotlib inline\n",
    "    %pylab inline\n",
    "    \n",
    "    plt.style.use( 'bmh' )\n",
    "    plt.rcParams['figure.figsize'] = [25, 12]\n",
    "    plt.rcParams['font.size'] = 24\n",
    "    \n",
    "    display( HTML( '<style>.container { width:100% !important; }</style>') )\n",
    "    pd.options.display.max_columns = None\n",
    "    pd.options.display.max_rows = None\n",
    "    pd.set_option( 'display.expand_frame_repr', False )\n",
    "    \n",
    "    sns.set()\n",
    "jupyter_settings()\n",
    "\n",
    "\n",
    "pd.set_option('display.float_format', lambda x: '%.3f' % x)\n"
   ]
  },
  {
   "cell_type": "markdown",
   "id": "38d8063c",
   "metadata": {},
   "source": [
    "## 0.2 Obtenção dos dados"
   ]
  },
  {
   "cell_type": "code",
   "execution_count": null,
   "id": "1282653c",
   "metadata": {
    "ExecuteTime": {
     "end_time": "2021-11-11T04:13:47.559371Z",
     "start_time": "2021-11-11T04:13:47.559355Z"
    },
    "scrolled": true
   },
   "outputs": [],
   "source": [
    "data = pd.read_excel('../data/case_internacao_SUS.xls', sheet_name=None)\n",
    "df_raw = pd.DataFrame()\n",
    "for key in data.keys():\n",
    "    df = data[key]\n",
    "    df['data'] = key\n",
    "    df_raw = pd.concat([df_raw, df], axis=0)\n",
    "    \n",
    "\n",
    "df_raw"
   ]
  },
  {
   "cell_type": "markdown",
   "id": "6cffa51c",
   "metadata": {},
   "source": [
    "# 1.0 Descrição dos dados"
   ]
  },
  {
   "cell_type": "markdown",
   "id": "c75eca79",
   "metadata": {},
   "source": [
    "## 1.1. Renomeação das colunas"
   ]
  },
  {
   "cell_type": "markdown",
   "id": "b11f6075",
   "metadata": {},
   "source": [
    "Região/unidade de federação\n",
    "Internações (AIH aprovadas no período sem considerar prorrogação)\n",
    "AIH aprovadas (AIH são as autorizações para internação hospitalar - contempla novas e prorrogações)\n",
    "Valor total -> referente as AIH aprovadas no período, valor aprovado de produção e não necessariamente repassado\n",
    "Valor serviços hospitalares\n",
    "Valores serviços hospitalares complemento federal\n",
    "Valores serviços hospitalares complemento gestor (estadual ou municiapl"
   ]
  },
  {
   "cell_type": "code",
   "execution_count": null,
   "id": "065f7b87",
   "metadata": {
    "ExecuteTime": {
     "end_time": "2021-11-11T04:13:47.561283Z",
     "start_time": "2021-11-11T04:13:47.561272Z"
    }
   },
   "outputs": [],
   "source": [
    "df1 = df_raw.copy()"
   ]
  },
  {
   "cell_type": "code",
   "execution_count": null,
   "id": "414775ed",
   "metadata": {
    "ExecuteTime": {
     "end_time": "2021-11-11T04:13:47.566908Z",
     "start_time": "2021-11-11T04:13:47.566893Z"
    },
    "scrolled": true
   },
   "outputs": [],
   "source": [
    "cols_old = df1.columns\n",
    "lower = lambda x: x.lower()\n",
    "\n",
    "cols_new = list( map( lower, cols_old ) )\n",
    "\n",
    "df1.columns = cols_new"
   ]
  },
  {
   "cell_type": "code",
   "execution_count": null,
   "id": "f59f7321",
   "metadata": {
    "ExecuteTime": {
     "end_time": "2021-11-11T04:13:47.567721Z",
     "start_time": "2021-11-11T04:13:47.567707Z"
    }
   },
   "outputs": [],
   "source": [
    "df1.columns = ['uf', 'internacoes', 'aih_aprovadas',\n",
    "       'valor_total', 'valor_servicos_hospitalares',\n",
    "       'val_serv_hosp_compl_federal', 'val_serv_hosp_compl_gestor',\n",
    "       'valor_serviços_profissionais', 'val_serv_prof_compl_federal',\n",
    "       'val_serv_prof_compl_gestor', 'valor_medio_aih', 'valor_medio_intern',\n",
    "       'dias_permanência', 'media_permanencia', 'obitos', 'taxa_mortalidade',\n",
    "       'data']"
   ]
  },
  {
   "cell_type": "code",
   "execution_count": null,
   "id": "270b9759",
   "metadata": {
    "ExecuteTime": {
     "end_time": "2021-11-11T04:13:47.568461Z",
     "start_time": "2021-11-11T04:13:47.568451Z"
    },
    "scrolled": true
   },
   "outputs": [],
   "source": [
    "df1.head()"
   ]
  },
  {
   "cell_type": "markdown",
   "id": "6ddcc35e",
   "metadata": {},
   "source": [
    "## 1.2 Separação de dados de estados e região"
   ]
  },
  {
   "cell_type": "code",
   "execution_count": null,
   "id": "1ef2889b",
   "metadata": {
    "ExecuteTime": {
     "end_time": "2021-11-11T04:13:47.571229Z",
     "start_time": "2021-11-11T04:13:47.571219Z"
    }
   },
   "outputs": [],
   "source": [
    "#checando quais são os estados e regiões únicos nos dados\n",
    "df1['uf'].unique()"
   ]
  },
  {
   "cell_type": "code",
   "execution_count": null,
   "id": "350bac64",
   "metadata": {
    "ExecuteTime": {
     "end_time": "2021-11-11T04:13:47.574701Z",
     "start_time": "2021-11-11T04:13:47.574684Z"
    }
   },
   "outputs": [],
   "source": [
    "#checando as linhas com dados de região vazios\n",
    "df1[df1['uf'].isnull()]"
   ]
  },
  {
   "cell_type": "code",
   "execution_count": null,
   "id": "d91ad1df",
   "metadata": {
    "ExecuteTime": {
     "end_time": "2021-11-11T04:13:47.575658Z",
     "start_time": "2021-11-11T04:13:47.575647Z"
    }
   },
   "outputs": [],
   "source": [
    "# como todas as linhas de uf vazios são vazias, vamos filtrar apenas os dados de uf não nulos\n",
    "df1 = df1[df1['uf'].notnull()]"
   ]
  },
  {
   "cell_type": "code",
   "execution_count": null,
   "id": "98289aeb",
   "metadata": {
    "ExecuteTime": {
     "end_time": "2021-11-11T04:13:47.581943Z",
     "start_time": "2021-11-11T04:13:47.581931Z"
    },
    "scrolled": false
   },
   "outputs": [],
   "source": [
    "df1.head()"
   ]
  },
  {
   "cell_type": "code",
   "execution_count": null,
   "id": "6c3af8e5",
   "metadata": {
    "ExecuteTime": {
     "end_time": "2021-11-11T04:13:47.582716Z",
     "start_time": "2021-11-11T04:13:47.582705Z"
    },
    "scrolled": true
   },
   "outputs": [],
   "source": [
    "# estados possuem pontos (.) antes dos seus nomes, portanto vamos filtrar apenas os que são estados\n",
    "df1 = df1[df1['uf'].str.contains('.', regex=False)]"
   ]
  },
  {
   "cell_type": "code",
   "execution_count": null,
   "id": "38832ee6",
   "metadata": {
    "ExecuteTime": {
     "end_time": "2021-11-11T04:13:47.583392Z",
     "start_time": "2021-11-11T04:13:47.583383Z"
    }
   },
   "outputs": [],
   "source": [
    "df1['uf'].unique()"
   ]
  },
  {
   "cell_type": "markdown",
   "id": "188e4510",
   "metadata": {},
   "source": [
    "## 1.3 Limpeza da coluna uf"
   ]
  },
  {
   "cell_type": "code",
   "execution_count": null,
   "id": "aa19e10a",
   "metadata": {
    "ExecuteTime": {
     "end_time": "2021-11-11T04:13:47.586721Z",
     "start_time": "2021-11-11T04:13:47.586711Z"
    }
   },
   "outputs": [],
   "source": [
    "df1['uf'] = df1['uf'].apply(lambda x: x.replace('.',''))\n",
    "df1['uf'] = df1['uf'].apply(lambda x: x.lstrip())\n",
    "df1['uf'] = df1['uf'].apply(lambda x: x.rstrip())\n",
    "    \n",
    "    \n",
    "    \n",
    "    \n",
    "#df1['uf'] = df1['uf'].apply(lambda x: inflection.underscore( x ))"
   ]
  },
  {
   "cell_type": "code",
   "execution_count": null,
   "id": "4b05be78",
   "metadata": {
    "ExecuteTime": {
     "end_time": "2021-11-11T04:13:47.590267Z",
     "start_time": "2021-11-11T04:13:47.590253Z"
    }
   },
   "outputs": [],
   "source": [
    "estados = {\n",
    "    'AC': 'Acre',\n",
    "    'AL': 'Alagoas',\n",
    "    'AP': 'Amapá',\n",
    "    'AM': 'Amazonas',\n",
    "    'BA': 'Bahia',\n",
    "    'CE': 'Ceará',\n",
    "    'DF': 'Distrito Federal',\n",
    "    'ES': 'Espírito Santo',\n",
    "    'GO': 'Goiás',\n",
    "    'MA': 'Maranhão',\n",
    "    'MT': 'Mato Grosso',\n",
    "    'MS': 'Mato Grosso do Sul',\n",
    "    'MG': 'Minas Gerais',\n",
    "    'PA': 'Pará',\n",
    "    'PB': 'Paraíba',\n",
    "    'PR': 'Paraná',\n",
    "    'PE': 'Pernambuco',\n",
    "    'PI': 'Piauí',\n",
    "    'RJ': 'Rio de Janeiro',\n",
    "    'RN': 'Rio Grande do Norte',\n",
    "    'RS': 'Rio Grande do Sul',\n",
    "    'RO': 'Rondônia',\n",
    "    'RR': 'Roraima',\n",
    "    'SC': 'Santa Catarina',\n",
    "    'SP': 'São Paulo',\n",
    "    'SE': 'Sergipe',\n",
    "    'TO': 'Tocantins'\n",
    "}\n",
    "\n",
    "estados_1 = {v: k for k, v in estados.items()}\n",
    "\n",
    "df1['uf'] = df1['uf'].map(estados_1)"
   ]
  },
  {
   "cell_type": "code",
   "execution_count": null,
   "id": "cab13722",
   "metadata": {
    "ExecuteTime": {
     "end_time": "2021-11-11T04:13:47.590978Z",
     "start_time": "2021-11-11T04:13:47.590968Z"
    },
    "scrolled": false
   },
   "outputs": [],
   "source": [
    "df1.head()"
   ]
  },
  {
   "cell_type": "markdown",
   "id": "509fe66e",
   "metadata": {},
   "source": [
    "## 1.4 Substituição do - por NaN"
   ]
  },
  {
   "cell_type": "code",
   "execution_count": null,
   "id": "66b761b2",
   "metadata": {
    "ExecuteTime": {
     "end_time": "2021-11-11T04:13:47.594114Z",
     "start_time": "2021-11-11T04:13:47.594101Z"
    }
   },
   "outputs": [],
   "source": [
    "for i in df1.columns:\n",
    "    df1[df1[i] == '-'] = df1[df1[i] == '-'].apply(lambda x: x.replace('-', np.NaN))"
   ]
  },
  {
   "cell_type": "markdown",
   "id": "e055fb58",
   "metadata": {},
   "source": [
    "## 1.5 Dimensão dos dados"
   ]
  },
  {
   "cell_type": "code",
   "execution_count": null,
   "id": "873b08c3",
   "metadata": {
    "ExecuteTime": {
     "end_time": "2021-11-11T04:13:47.594800Z",
     "start_time": "2021-11-11T04:13:47.594791Z"
    },
    "scrolled": true
   },
   "outputs": [],
   "source": [
    "print('numero_de_linhas: {}'.format(df1.shape[0]))\n",
    "print('numero_de_colunas: {}'.format(df1.shape[1]))"
   ]
  },
  {
   "cell_type": "markdown",
   "id": "eb76a8be",
   "metadata": {},
   "source": [
    "## 1.6 Tipos dos dados"
   ]
  },
  {
   "cell_type": "code",
   "execution_count": null,
   "id": "cbea6b72",
   "metadata": {
    "ExecuteTime": {
     "end_time": "2021-11-11T04:13:47.598229Z",
     "start_time": "2021-11-11T04:13:47.598213Z"
    },
    "scrolled": true
   },
   "outputs": [],
   "source": [
    "df1.dtypes"
   ]
  },
  {
   "cell_type": "markdown",
   "id": "01ee6ae0",
   "metadata": {},
   "source": [
    "## 1.7 Check de dados faltantes"
   ]
  },
  {
   "cell_type": "code",
   "execution_count": null,
   "id": "0180cb88",
   "metadata": {
    "ExecuteTime": {
     "end_time": "2021-11-11T04:13:47.601219Z",
     "start_time": "2021-11-11T04:13:47.601206Z"
    },
    "scrolled": true
   },
   "outputs": [],
   "source": [
    "df1.isna().sum()"
   ]
  },
  {
   "cell_type": "code",
   "execution_count": null,
   "id": "e5b1233e",
   "metadata": {
    "ExecuteTime": {
     "end_time": "2021-11-11T04:13:47.602023Z",
     "start_time": "2021-11-11T04:13:47.602013Z"
    }
   },
   "outputs": [],
   "source": [
    "df1 = df1[df1['internacoes'].notnull()]"
   ]
  },
  {
   "cell_type": "code",
   "execution_count": null,
   "id": "dd5530cc",
   "metadata": {
    "ExecuteTime": {
     "end_time": "2021-11-11T04:13:47.602642Z",
     "start_time": "2021-11-11T04:13:47.602633Z"
    },
    "scrolled": true
   },
   "outputs": [],
   "source": [
    "df1.isna().sum()"
   ]
  },
  {
   "cell_type": "markdown",
   "id": "67318ed0",
   "metadata": {},
   "source": [
    "## 1.8 Alteração dos tipos dos dados"
   ]
  },
  {
   "cell_type": "code",
   "execution_count": null,
   "id": "10348ca0",
   "metadata": {
    "ExecuteTime": {
     "end_time": "2021-11-11T04:13:47.611277Z",
     "start_time": "2021-11-11T04:13:47.611265Z"
    }
   },
   "outputs": [],
   "source": [
    "#separar mês de ano\n",
    "df1['mes'] = df1['data'].apply(lambda x: x[0:3])\n",
    "df1['ano'] = df1['data'].apply(lambda x: x[-2:])\n",
    "\n",
    "#substituir meses extensos por números\n",
    "meses = {'jan':'1', 'fev':'2', 'mar':'3', 'abr':'4', 'mai':'5', 'jun':'6', 'jul':'7', 'ago':'8', 'set':'9', 'out':'10', 'nov':'11', 'dez':'12'}\n",
    "for k,v in meses.items():\n",
    "    df1['mes'] = df1['mes'].apply(lambda x: x.replace(k,v))\n",
    "\n",
    "#transformar ano em 04 dígitos\n",
    "df1['ano'] = df1['ano'].apply(lambda x: '20'+x)\n",
    "\n",
    "#unir as datas\n",
    "df1['data'] = df1['ano']+'-'+df1['mes']\n",
    "\n"
   ]
  },
  {
   "cell_type": "code",
   "execution_count": null,
   "id": "4479989f",
   "metadata": {
    "ExecuteTime": {
     "end_time": "2021-11-11T04:13:47.612023Z",
     "start_time": "2021-11-11T04:13:47.612013Z"
    }
   },
   "outputs": [],
   "source": [
    "#converter para datetime\n",
    "\n",
    "df1['data'] = pd.to_datetime(df1['data'], format='%Y-%m')\n",
    "\n",
    "df1.head()"
   ]
  },
  {
   "cell_type": "markdown",
   "id": "1cbacf92",
   "metadata": {
    "ExecuteTime": {
     "end_time": "2021-11-05T21:23:24.787382Z",
     "start_time": "2021-11-05T21:23:24.527523Z"
    }
   },
   "source": [
    "## 1.9 Preenchimento de dados faltantes "
   ]
  },
  {
   "cell_type": "code",
   "execution_count": null,
   "id": "3bfc7d65",
   "metadata": {
    "ExecuteTime": {
     "end_time": "2021-11-11T04:13:47.612696Z",
     "start_time": "2021-11-11T04:13:47.612687Z"
    }
   },
   "outputs": [],
   "source": [
    "# se não houve complemento do governo federal ou do gestor, então os dados faltantes podem ser preenchidos com 0\n",
    "df1.fillna(0, inplace=True)"
   ]
  },
  {
   "cell_type": "code",
   "execution_count": null,
   "id": "6ec9679c",
   "metadata": {
    "ExecuteTime": {
     "end_time": "2021-11-11T04:13:47.613322Z",
     "start_time": "2021-11-11T04:13:47.613310Z"
    }
   },
   "outputs": [],
   "source": [
    "df1.head()"
   ]
  },
  {
   "cell_type": "markdown",
   "id": "ee0768df",
   "metadata": {},
   "source": [
    "## 1.10 Inserção dos períodos faltantes"
   ]
  },
  {
   "cell_type": "code",
   "execution_count": null,
   "id": "9921f2e7",
   "metadata": {
    "ExecuteTime": {
     "end_time": "2021-11-11T04:13:47.614200Z",
     "start_time": "2021-11-11T04:13:47.614192Z"
    },
    "scrolled": true
   },
   "outputs": [],
   "source": [
    "sorted(df1['data'].unique())"
   ]
  },
  {
   "cell_type": "markdown",
   "id": "a71d49dd",
   "metadata": {
    "ExecuteTime": {
     "end_time": "2021-11-05T21:26:04.283890Z",
     "start_time": "2021-11-05T21:26:04.270434Z"
    }
   },
   "source": [
    "Meses faltantes: <br>\n",
    "2018: jan, fev, jun, out <br>\n",
    "2019: mar, mai,"
   ]
  },
  {
   "cell_type": "code",
   "execution_count": null,
   "id": "184bc6e6",
   "metadata": {
    "ExecuteTime": {
     "end_time": "2021-11-11T04:13:47.622844Z",
     "start_time": "2021-11-11T04:13:47.622834Z"
    }
   },
   "outputs": [],
   "source": [
    "# criar dataset com os timestamps e demais dados vazios\n",
    "\n",
    "aux = pd.DataFrame(columns=df1.columns)\n",
    "missing_data = [datetime.date(2018, 1, 1), datetime.date(2018, 2, 1), datetime.date(2018, 6, 1), datetime.date(2018, 10, 1), datetime.date(2019, 3, 1), datetime.date(2019, 5, 1) ]\n",
    "for i in range(0, len(df1['uf'].unique())):\n",
    "    for  j in range(0, len(missing_data)):\n",
    "        aux1 = pd.DataFrame([[df1['uf'].unique()[i],np.NaN, np.NaN, np.NaN, np.NaN, np.NaN, np.NaN, np.NaN, np.NaN, np.NaN, np.NaN, np.NaN, np.NaN, np.NaN, np.NaN, np.NaN,\n",
    "                       missing_data[j], np.NaN, np.NaN]], columns=df1.columns)\n",
    "\n",
    "        aux = pd.concat([aux, aux1])\n",
    "\n"
   ]
  },
  {
   "cell_type": "code",
   "execution_count": null,
   "id": "14143c47",
   "metadata": {
    "ExecuteTime": {
     "end_time": "2021-11-11T04:13:47.623627Z",
     "start_time": "2021-11-11T04:13:47.623617Z"
    }
   },
   "outputs": [],
   "source": [
    "aux.head()"
   ]
  },
  {
   "cell_type": "code",
   "execution_count": null,
   "id": "6e1c659c",
   "metadata": {
    "ExecuteTime": {
     "end_time": "2021-11-11T04:13:47.624297Z",
     "start_time": "2021-11-11T04:13:47.624288Z"
    }
   },
   "outputs": [],
   "source": [
    "aux['mes'] = pd.DatetimeIndex(aux['data']).month\n",
    "aux['ano'] = pd.DatetimeIndex(aux['data']).year"
   ]
  },
  {
   "cell_type": "code",
   "execution_count": null,
   "id": "1705fc63",
   "metadata": {
    "ExecuteTime": {
     "end_time": "2021-11-11T04:13:47.624898Z",
     "start_time": "2021-11-11T04:13:47.624890Z"
    }
   },
   "outputs": [],
   "source": [
    "aux['mes'] = aux['mes'].apply(lambda x: str(x))\n",
    "aux['ano'] = aux['ano'].apply(lambda x: str(x))"
   ]
  },
  {
   "cell_type": "code",
   "execution_count": null,
   "id": "d455ca62",
   "metadata": {
    "ExecuteTime": {
     "end_time": "2021-11-11T04:13:47.625529Z",
     "start_time": "2021-11-11T04:13:47.625521Z"
    }
   },
   "outputs": [],
   "source": [
    "aux.dtypes"
   ]
  },
  {
   "cell_type": "code",
   "execution_count": null,
   "id": "b6c28c9b",
   "metadata": {
    "ExecuteTime": {
     "end_time": "2021-11-11T04:13:47.630771Z",
     "start_time": "2021-11-11T04:13:47.630760Z"
    }
   },
   "outputs": [],
   "source": [
    "df1.shape"
   ]
  },
  {
   "cell_type": "code",
   "execution_count": null,
   "id": "2efbad98",
   "metadata": {
    "ExecuteTime": {
     "end_time": "2021-11-11T04:13:47.631498Z",
     "start_time": "2021-11-11T04:13:47.631488Z"
    }
   },
   "outputs": [],
   "source": [
    "df1 = pd.concat([df1, aux])"
   ]
  },
  {
   "cell_type": "code",
   "execution_count": null,
   "id": "4acf4170",
   "metadata": {
    "ExecuteTime": {
     "end_time": "2021-11-11T04:13:47.638203Z",
     "start_time": "2021-11-11T04:13:47.638189Z"
    }
   },
   "outputs": [],
   "source": [
    "df1 = df1.sort_values(by='data')"
   ]
  },
  {
   "cell_type": "code",
   "execution_count": null,
   "id": "f1b76a34",
   "metadata": {
    "ExecuteTime": {
     "end_time": "2021-11-11T04:13:47.638970Z",
     "start_time": "2021-11-11T04:13:47.638961Z"
    }
   },
   "outputs": [],
   "source": [
    "df1 = df1.reset_index(drop=True)"
   ]
  },
  {
   "cell_type": "code",
   "execution_count": null,
   "id": "88b17721",
   "metadata": {
    "ExecuteTime": {
     "end_time": "2021-11-11T04:13:47.639581Z",
     "start_time": "2021-11-11T04:13:47.639572Z"
    },
    "scrolled": true
   },
   "outputs": [],
   "source": [
    "df1.head()"
   ]
  },
  {
   "cell_type": "code",
   "execution_count": null,
   "id": "3a7a8c65",
   "metadata": {
    "ExecuteTime": {
     "end_time": "2021-11-11T04:13:47.642558Z",
     "start_time": "2021-11-11T04:13:47.642547Z"
    }
   },
   "outputs": [],
   "source": [
    "df1['data'] = pd.to_datetime(df1['data'], format='%Y-%m')"
   ]
  },
  {
   "cell_type": "code",
   "execution_count": null,
   "id": "09b8a141",
   "metadata": {
    "ExecuteTime": {
     "end_time": "2021-11-11T04:13:47.643251Z",
     "start_time": "2021-11-11T04:13:47.643241Z"
    }
   },
   "outputs": [],
   "source": [
    "# interpolação, substituição pela média ou mediana, média móvel, autoregressão"
   ]
  },
  {
   "cell_type": "code",
   "execution_count": null,
   "id": "58344fea",
   "metadata": {
    "ExecuteTime": {
     "end_time": "2021-11-11T04:13:47.643881Z",
     "start_time": "2021-11-11T04:13:47.643872Z"
    }
   },
   "outputs": [],
   "source": [
    "#df1['media_movel_internacoes'] = df1.loc[:,'internacoes'].rolling(window=1).mean()\n",
    "\n",
    "#df['pandas_SMA_3'] = df.iloc[:,1].rolling(window=3).mean()"
   ]
  },
  {
   "cell_type": "code",
   "execution_count": null,
   "id": "d4c31ce4",
   "metadata": {
    "ExecuteTime": {
     "end_time": "2021-11-11T04:13:47.648393Z",
     "start_time": "2021-11-11T04:13:47.648383Z"
    }
   },
   "outputs": [],
   "source": [
    "#df1.head()"
   ]
  },
  {
   "cell_type": "markdown",
   "id": "98e4860b",
   "metadata": {},
   "source": [
    "## 1.12 Estatística descritiva"
   ]
  },
  {
   "cell_type": "markdown",
   "id": "3c4ebc2a",
   "metadata": {},
   "source": [
    "### 1.12.1 Excluindo período com dados faltantes"
   ]
  },
  {
   "cell_type": "code",
   "execution_count": null,
   "id": "7dfb86ca",
   "metadata": {
    "ExecuteTime": {
     "end_time": "2021-11-11T04:13:47.649110Z",
     "start_time": "2021-11-11T04:13:47.649101Z"
    }
   },
   "outputs": [],
   "source": [
    "df1_aux = df1[df1['internacoes'].notnull()]"
   ]
  },
  {
   "cell_type": "code",
   "execution_count": null,
   "id": "b6a0f570",
   "metadata": {
    "ExecuteTime": {
     "end_time": "2021-11-11T04:13:47.654192Z",
     "start_time": "2021-11-11T04:13:47.654179Z"
    }
   },
   "outputs": [],
   "source": [
    "df1_aux.describe().T"
   ]
  },
  {
   "cell_type": "code",
   "execution_count": null,
   "id": "fc6371df",
   "metadata": {
    "ExecuteTime": {
     "end_time": "2021-11-11T04:13:47.654941Z",
     "start_time": "2021-11-11T04:13:47.654932Z"
    }
   },
   "outputs": [],
   "source": [
    "df1_aux.head()"
   ]
  },
  {
   "cell_type": "code",
   "execution_count": null,
   "id": "d6cf61b6",
   "metadata": {
    "ExecuteTime": {
     "end_time": "2021-11-11T04:13:47.655638Z",
     "start_time": "2021-11-11T04:13:47.655629Z"
    }
   },
   "outputs": [],
   "source": [
    "aux = df1_aux[['data', 'internacoes']].groupby('data').sum()\n",
    "aux.describe().T\n"
   ]
  },
  {
   "cell_type": "code",
   "execution_count": null,
   "id": "de87e3fe",
   "metadata": {
    "ExecuteTime": {
     "end_time": "2021-11-11T04:13:47.658698Z",
     "start_time": "2021-11-11T04:13:47.658683Z"
    }
   },
   "outputs": [],
   "source": [
    "aux = df1_aux[['data', 'internacoes']].groupby('data').mean()"
   ]
  },
  {
   "cell_type": "code",
   "execution_count": null,
   "id": "50634ad2",
   "metadata": {
    "ExecuteTime": {
     "end_time": "2021-11-11T04:13:47.659489Z",
     "start_time": "2021-11-11T04:13:47.659479Z"
    }
   },
   "outputs": [],
   "source": [
    "plt.plot(aux)"
   ]
  },
  {
   "cell_type": "markdown",
   "id": "c73fb70c",
   "metadata": {},
   "source": [
    "# 2.0 Feature engineering"
   ]
  },
  {
   "cell_type": "code",
   "execution_count": null,
   "id": "c6d33db3",
   "metadata": {
    "ExecuteTime": {
     "end_time": "2021-11-11T04:13:47.662604Z",
     "start_time": "2021-11-11T04:13:47.662594Z"
    }
   },
   "outputs": [],
   "source": [
    "df2 = df1.copy()"
   ]
  },
  {
   "cell_type": "code",
   "execution_count": null,
   "id": "10ca8ac8",
   "metadata": {
    "ExecuteTime": {
     "end_time": "2021-11-11T04:13:47.666256Z",
     "start_time": "2021-11-11T04:13:47.666238Z"
    }
   },
   "outputs": [],
   "source": [
    "Image( '../references/mindmap.png' )"
   ]
  },
  {
   "cell_type": "markdown",
   "id": "07c8339c",
   "metadata": {},
   "source": [
    "**Alocação de recursos** <br>\n",
    "**H1.** O valor total pago por internações deve ser maior na região Sudeste, sendo o estado de São Paulo o estao que deve destinar o maior valor de orçamento para internações. <br>\n",
    "**H2.** A maior proporção dos complementos federais em relação ao valor total pago devem é a da região nordeste. <br>\n",
    "**H3.** A maior pproporção dos complementos gestor em relação ao valor total pago deve estar na região sul. <br>\n",
    "**H4.** O valor médio dos serviços profissionais deve ser maior na região Sudeste e Sul, respectivamente. <br>\n",
    "**H5.** O maior número de leitos esperado deve estar na região Sudeste. <br> \n",
    "**H6.** A região sudeste é a que deve possuir mais leitos (esperados) por habitante <br> \n",
    "**H7.** Os estados da região Norte devem ser os que possuem menos leitos (esperados) por habitantes. <br>\n",
    "**H8.** O valor médio das internações pagas deve ser maior no estado de São Paulo e Distrito Federal, respectivamente <br>\n",
    "<br>\n",
    "\n",
    "\n",
    "**Métricas** <br>\n",
    "**H9.** O tempo médio de permanência deve ser maior em estados do Nordeste <br>\n",
    "**H10.** A taxa de mortalidade deve ser maior em estados do Norte e Nordesete, respectivamente. <br>\n",
    "**H11.** A região Sudeste deve concentrar o maior número de prorrogaões de internação que os outros estados.<br>\n",
    "<br>\n",
    "\n",
    "**Tempo**<br>\n",
    "**H12.** O número médio de internações deve ser maior em meses de inverno para todos os estados do Brasil.<br>\n",
    "**H13.** O tempo médio de internação deve ser maior nos meses de inverno.<br>\n",
    "**H14.** O comportamento das internações no tempo deve ser igual para ttodos os estados do Brasil<br>"
   ]
  },
  {
   "cell_type": "code",
   "execution_count": null,
   "id": "71921a95",
   "metadata": {
    "ExecuteTime": {
     "end_time": "2021-11-11T04:13:47.667132Z",
     "start_time": "2021-11-11T04:13:47.667122Z"
    }
   },
   "outputs": [],
   "source": [
    "#região\n",
    "norte = ['AM', 'PA', 'AP', 'AC', 'RR', 'RO', 'TO']\n",
    "nordeste = ['MA', 'PI', 'CE', 'RN', 'PB', 'PE', 'SE', 'BA', 'AL']\n",
    "centro_oeste = ['MT', 'MS', 'GO', 'DF']\n",
    "sudeste = ['MG', 'ES', 'RJ', 'SP']\n",
    "sul = ['PR', 'SC', 'RS']\n",
    "\n",
    "df2['regiao'] = df2['uf'].apply(lambda x: 'norte' if x in norte else 'nordeste' if x in nordeste else 'centro-oeste' if x in centro_oeste else 'sudeste' if x in sudeste else 'sul' if x in sul else np.NaN)\n",
    "\n",
    "\n",
    "#numero de leitos esperado\n",
    "df2['no_leitos_ocupado'] = (df2['aih_aprovadas'] * df2['media_permanencia']) / 30\n",
    "\n",
    "\n",
    "\n",
    "#população de cada estado\n",
    "\n",
    "populacao = pd.read_csv('../data/tabela6579.csv')\n",
    "\n",
    "populacao.columns = ['nivel', 'uf', '2017', '2018', '2019']\n",
    "\n",
    "populacao['uf'] = populacao['uf'].map(estados_1)\n",
    "\n",
    "\n",
    "df2 = df2.merge(populacao, how='inner', on='uf')\n",
    "\n",
    "df2.loc[df2['ano'] == '2017', 'populacao'] =df2.loc[df2['ano'] == '2017', '2017']\n",
    "df2.loc[df2['ano'] == '2018', 'populacao'] =df2.loc[df2['ano'] == '2018', '2018']\n",
    "df2.loc[df2['ano'] == '2019', 'populacao'] =df2.loc[df2['ano'] == '2019', '2019']\n",
    "df2 = df2.drop(columns=['nivel', '2017', '2018', '2019'])\n",
    "\n",
    "\n",
    "\n",
    "#prorrogações\n",
    "\n",
    "df2['prorrogacoes'] = df2['aih_aprovadas'] - df2['internacoes']\n",
    "\n",
    "#complemento federal\n",
    "df2['complemento_federal'] = df2['val_serv_hosp_compl_federal'] + df2['val_serv_prof_compl_federal']\n",
    "\n",
    "#complemento gestor\n",
    "df2['complemento_gestor'] = df2['val_serv_hosp_compl_gestor'] + df2['val_serv_prof_compl_gestor']"
   ]
  },
  {
   "cell_type": "code",
   "execution_count": null,
   "id": "93f17c10",
   "metadata": {
    "ExecuteTime": {
     "end_time": "2021-11-11T04:13:47.670621Z",
     "start_time": "2021-11-11T04:13:47.670610Z"
    }
   },
   "outputs": [],
   "source": [
    "df2.head()"
   ]
  },
  {
   "cell_type": "markdown",
   "id": "530ed074",
   "metadata": {
    "heading_collapsed": true
   },
   "source": [
    "# 3.0 Filtragem do dataset"
   ]
  },
  {
   "cell_type": "code",
   "execution_count": null,
   "id": "434b97a9",
   "metadata": {
    "ExecuteTime": {
     "end_time": "2021-11-11T04:13:47.671332Z",
     "start_time": "2021-11-11T04:13:47.671323Z"
    },
    "hidden": true
   },
   "outputs": [],
   "source": [
    "df3 = df2[['data', 'mes', 'ano', 'uf', 'regiao','internacoes', 'prorrogacoes', 'aih_aprovadas', 'valor_total', 'complemento_federal', 'complemento_gestor', \n",
    "           'valor_serviços_profissionais','valor_medio_intern', 'valor_medio_aih', 'no_leitos_ocupado', 'obitos','taxa_mortalidade', 'populacao', 'media_permanencia']]"
   ]
  },
  {
   "cell_type": "code",
   "execution_count": null,
   "id": "af06fd4e",
   "metadata": {
    "ExecuteTime": {
     "end_time": "2021-11-11T04:13:47.674529Z",
     "start_time": "2021-11-11T04:13:47.674518Z"
    },
    "hidden": true
   },
   "outputs": [],
   "source": [
    "#df3 = df3.dropna(axis=0)"
   ]
  },
  {
   "cell_type": "code",
   "execution_count": null,
   "id": "ad82e459",
   "metadata": {
    "ExecuteTime": {
     "end_time": "2021-11-11T04:13:47.678648Z",
     "start_time": "2021-11-11T04:13:47.678635Z"
    },
    "hidden": true
   },
   "outputs": [],
   "source": [
    "df3.head()"
   ]
  },
  {
   "cell_type": "markdown",
   "id": "047b3a84",
   "metadata": {
    "heading_collapsed": true
   },
   "source": [
    "# 4.0 Análise exploraoria de dados (EDA)"
   ]
  },
  {
   "cell_type": "code",
   "execution_count": null,
   "id": "1143aa05",
   "metadata": {
    "ExecuteTime": {
     "end_time": "2021-11-11T04:13:47.679332Z",
     "start_time": "2021-11-11T04:13:47.679323Z"
    },
    "hidden": true
   },
   "outputs": [],
   "source": [
    "df4 = df3.copy()"
   ]
  },
  {
   "cell_type": "markdown",
   "id": "1f59a493",
   "metadata": {
    "hidden": true
   },
   "source": [
    "## 4.1 Análise univariada"
   ]
  },
  {
   "cell_type": "code",
   "execution_count": null,
   "id": "ed327136",
   "metadata": {
    "ExecuteTime": {
     "end_time": "2021-11-11T04:13:47.682265Z",
     "start_time": "2021-11-11T04:13:47.682246Z"
    },
    "hidden": true,
    "scrolled": false
   },
   "outputs": [],
   "source": [
    "# análise univariada - distribuição\n",
    "df4.hist(bins = 25);"
   ]
  },
  {
   "cell_type": "markdown",
   "id": "b112c0eb",
   "metadata": {
    "hidden": true
   },
   "source": [
    "## 4.2. Análise bivariada"
   ]
  },
  {
   "cell_type": "code",
   "execution_count": null,
   "id": "6ebddf8d",
   "metadata": {
    "ExecuteTime": {
     "end_time": "2021-11-11T04:13:47.683378Z",
     "start_time": "2021-11-11T04:13:47.683365Z"
    },
    "hidden": true
   },
   "outputs": [],
   "source": [
    "# análise bivariada (teste das hipóteses)"
   ]
  },
  {
   "cell_type": "markdown",
   "id": "78ddf6b3",
   "metadata": {
    "hidden": true
   },
   "source": [
    "### H1. O valor total pago por internações deve ser maior na região Sudeste, sendo o estado de São Paulo o estado que deve destinar o maior valor de orçamento para internações.\n",
    "**VERDADEIRA.** O valor total pago por internações é maior na região Sudeste, sendo que São Paulo deve receber pelo menos 53.27% dos valor orçamentário para pagamentos de internações da região e 22,724% do valor orçamentário do para este fim do país"
   ]
  },
  {
   "cell_type": "code",
   "execution_count": null,
   "id": "2ddc2abc",
   "metadata": {
    "ExecuteTime": {
     "end_time": "2021-11-11T04:13:47.690194Z",
     "start_time": "2021-11-11T04:13:47.690177Z"
    },
    "hidden": true
   },
   "outputs": [],
   "source": [
    "#gasto total mensal por cada região (plot de linhas)\n",
    "#gasto total mensal por estado"
   ]
  },
  {
   "cell_type": "code",
   "execution_count": 2,
   "id": "b9e211b2",
   "metadata": {
    "ExecuteTime": {
     "end_time": "2021-11-11T04:13:47.730122Z",
     "start_time": "2021-11-11T04:13:47.694547Z"
    },
    "hidden": true,
    "scrolled": false
   },
   "outputs": [
    {
     "ename": "NameError",
     "evalue": "name 'plt' is not defined",
     "output_type": "error",
     "traceback": [
      "\u001b[0;31m---------------------------------------------------------------------------\u001b[0m",
      "\u001b[0;31mNameError\u001b[0m                                 Traceback (most recent call last)",
      "\u001b[0;32m/tmp/ipykernel_71176/74730653.py\u001b[0m in \u001b[0;36m<module>\u001b[0;34m\u001b[0m\n\u001b[0;32m----> 1\u001b[0;31m \u001b[0mplt\u001b[0m\u001b[0;34m.\u001b[0m\u001b[0msubplot\u001b[0m\u001b[0;34m(\u001b[0m\u001b[0;36m2\u001b[0m\u001b[0;34m,\u001b[0m \u001b[0;36m2\u001b[0m\u001b[0;34m,\u001b[0m \u001b[0;36m1\u001b[0m\u001b[0;34m)\u001b[0m\u001b[0;34m\u001b[0m\u001b[0;34m\u001b[0m\u001b[0m\n\u001b[0m\u001b[1;32m      2\u001b[0m \u001b[0maux1\u001b[0m \u001b[0;34m=\u001b[0m \u001b[0mdf4\u001b[0m\u001b[0;34m[\u001b[0m\u001b[0;34m[\u001b[0m\u001b[0;34m'data'\u001b[0m\u001b[0;34m,\u001b[0m \u001b[0;34m'regiao'\u001b[0m\u001b[0;34m,\u001b[0m \u001b[0;34m'valor_total'\u001b[0m\u001b[0;34m]\u001b[0m\u001b[0;34m]\u001b[0m\u001b[0;34m.\u001b[0m\u001b[0mgroupby\u001b[0m\u001b[0;34m(\u001b[0m\u001b[0;34m[\u001b[0m\u001b[0;34m'data'\u001b[0m\u001b[0;34m,\u001b[0m\u001b[0;34m'regiao'\u001b[0m\u001b[0;34m]\u001b[0m\u001b[0;34m)\u001b[0m\u001b[0;34m.\u001b[0m\u001b[0msum\u001b[0m\u001b[0;34m(\u001b[0m\u001b[0;34m)\u001b[0m\u001b[0;34m.\u001b[0m\u001b[0mreset_index\u001b[0m\u001b[0;34m(\u001b[0m\u001b[0;34m)\u001b[0m\u001b[0;34m\u001b[0m\u001b[0;34m\u001b[0m\u001b[0m\n\u001b[1;32m      3\u001b[0m \u001b[0msns\u001b[0m\u001b[0;34m.\u001b[0m\u001b[0mlineplot\u001b[0m\u001b[0;34m(\u001b[0m\u001b[0mx\u001b[0m\u001b[0;34m=\u001b[0m\u001b[0;34m'data'\u001b[0m\u001b[0;34m,\u001b[0m \u001b[0my\u001b[0m\u001b[0;34m=\u001b[0m\u001b[0;34m'valor_total'\u001b[0m\u001b[0;34m,\u001b[0m \u001b[0mhue\u001b[0m\u001b[0;34m=\u001b[0m\u001b[0;34m'regiao'\u001b[0m\u001b[0;34m,\u001b[0m \u001b[0mdata\u001b[0m\u001b[0;34m=\u001b[0m\u001b[0maux1\u001b[0m\u001b[0;34m)\u001b[0m\u001b[0;34m\u001b[0m\u001b[0;34m\u001b[0m\u001b[0m\n\u001b[1;32m      4\u001b[0m \u001b[0mplt\u001b[0m\u001b[0;34m.\u001b[0m\u001b[0mtitle\u001b[0m\u001b[0;34m(\u001b[0m\u001b[0;34m'Valor total destinado para pagamento de internações'\u001b[0m\u001b[0;34m)\u001b[0m\u001b[0;34m\u001b[0m\u001b[0;34m\u001b[0m\u001b[0m\n\u001b[1;32m      5\u001b[0m \u001b[0mplt\u001b[0m\u001b[0;34m.\u001b[0m\u001b[0mylabel\u001b[0m\u001b[0;34m(\u001b[0m\u001b[0;34m'Valor pago em internações x 100 milhões de R$'\u001b[0m\u001b[0;34m)\u001b[0m\u001b[0;34m\u001b[0m\u001b[0;34m\u001b[0m\u001b[0m\n",
      "\u001b[0;31mNameError\u001b[0m: name 'plt' is not defined"
     ]
    }
   ],
   "source": [
    "plt.subplot(2, 2, 1)\n",
    "aux1 = df4[['data', 'regiao', 'valor_total']].groupby(['data','regiao']).sum().reset_index()\n",
    "sns.lineplot(x='data', y='valor_total', hue='regiao', data=aux1)\n",
    "plt.title('Valor total destinado para pagamento de internações')\n",
    "plt.ylabel('Valor pago em internações x 100 milhões de R$')\n",
    "\n",
    "\n",
    "plt.subplot(2, 2, (2,4))\n",
    "aux2 = df4[['ano', 'uf', 'valor_total']].groupby('uf').sum().sort_values(by='valor_total', ascending=False).reset_index()\n",
    "sns.barplot(x='valor_total', y='uf', data=aux2)\n",
    "plt.title('Valor total em pagamentos de internações do SUS por UF no ano de 2018')\n",
    "plt.xlabel('Valor total de pagamentos em internações em bilhões de R$');\n",
    "\n",
    "\n",
    "plt.subplot(2, 2, 3)\n",
    "aux3 = df4[['data', 'uf', 'valor_total']].groupby(['data','uf']).sum().reset_index()\n",
    "aux3 = aux3[aux3['uf'].isin(['SP', 'MG', 'PR', 'RS'])]\n",
    "sns.lineplot(x='data', y='valor_total', hue='uf', data=aux3)\n",
    "plt.title('Valor pago em internações mensalmente pelos 3 maiores UFs em valor pago ')\n",
    "plt.ylabel('Valor pago em internações x 100 milhões de R$')"
   ]
  },
  {
   "cell_type": "code",
   "execution_count": null,
   "id": "5b4b91fb",
   "metadata": {
    "ExecuteTime": {
     "end_time": "2021-11-11T04:13:47.731665Z",
     "start_time": "2021-11-11T04:13:47.731654Z"
    },
    "hidden": true
   },
   "outputs": [],
   "source": [
    "aux4 = df4[df4['ano']=='2018'][['uf', 'regiao', 'valor_total']].groupby(['regiao', 'uf']).sum().reset_index()\n",
    "\n",
    "proporcao_valor_internacoes_SP_Brasil = aux4[aux4['uf']== 'SP']['valor_total'].sum()/aux4['valor_total'].sum() *100\n",
    "print('{}% do valor total repassado para pagamento das internações em 2018 foi para o estado de São Paulo'.format(round(proporcao_valor_internacoes_SP_Brasil,2)))\n",
    "\n",
    "proporcao_valor_internacoes_SP_sudeste = aux4[aux4['uf']== 'SP']['valor_total'].sum()/aux4[aux4['regiao']== 'sudeste']['valor_total'].sum() *100\n",
    "print('São Paulo representa {}% do valor total pago em internações na região Sudeste em 2018'.format(round(proporcao_valor_internacoes_SP_sudeste,2)))"
   ]
  },
  {
   "cell_type": "code",
   "execution_count": null,
   "id": "ad2cfc72",
   "metadata": {
    "ExecuteTime": {
     "end_time": "2021-11-11T04:13:47.732453Z",
     "start_time": "2021-11-11T04:13:47.732443Z"
    },
    "hidden": true
   },
   "outputs": [],
   "source": [
    "#valor anual pago por habitante"
   ]
  },
  {
   "cell_type": "markdown",
   "id": "1715fc4f",
   "metadata": {
    "hidden": true
   },
   "source": [
    "### H2. A maior proporção dos complementos federais em relação ao valor total pago devem é a da região nordeste.\n",
    "**FALSA.** A maior proporção dos complementos federais em relação ao valor total pago é a da região Sudeste. A regiao nordeste, apesar de ocupar o 2 lugar em valor absoluto de complemento, está em quarta posição na comparação complementos federais x valor total pago"
   ]
  },
  {
   "cell_type": "code",
   "execution_count": null,
   "id": "f806f44e",
   "metadata": {
    "ExecuteTime": {
     "end_time": "2021-11-11T04:13:47.734367Z",
     "start_time": "2021-11-11T04:13:47.734357Z"
    },
    "hidden": true
   },
   "outputs": [],
   "source": [
    "with warnings.catch_warnings():\n",
    "    warnings.simplefilter('ignore')\n",
    "    plt.subplot(2,1,1)\n",
    "    aux1 = df4[['regiao', 'complemento_federal']].groupby('regiao').sum().sort_values(by='complemento_federal', ascending=False).reset_index()\n",
    "    sns.barplot(x='complemento_federal', y='regiao', data=aux1)\n",
    "    plt.title('Valor total absoluto pago em complemento federal (profissionais + serviços hospitalares) por região')\n",
    "    plt.xlabel('Valor pago em complemento federal em 10 milhões de R$')\n",
    "    plt.subplots_adjust(hspace = 0.5)\n",
    "\n",
    "    plt.subplot(2,1,2)\n",
    "    aux2 = df4[['regiao', 'complemento_federal', 'valor_total']]\n",
    "    aux2['proporcao_complemento_federal'] = (aux2['complemento_federal'] / (aux2['complemento_federal'] + aux2['valor_total']) )*100\n",
    "    aux3 = aux2[['regiao', 'proporcao_complemento_federal']].groupby('regiao').mean().sort_values(by='proporcao_complemento_federal', ascending=False).reset_index()\n",
    "    sns.barplot(x='proporcao_complemento_federal', y='regiao', data=aux3)\n",
    "    plt.title('Proporção de complemento federal em comparação com valor total pago por internações por região')\n",
    "    plt.xlabel('Proporção de complemento federal em comparação com valor total pago por internações por região em %');"
   ]
  },
  {
   "cell_type": "code",
   "execution_count": null,
   "id": "dccf5918",
   "metadata": {
    "ExecuteTime": {
     "end_time": "2021-11-11T04:13:47.735146Z",
     "start_time": "2021-11-11T04:13:47.735132Z"
    },
    "hidden": true
   },
   "outputs": [],
   "source": [
    "with warnings.catch_warnings():\n",
    "    warnings.simplefilter('ignore')\n",
    "    plt.subplot(1,2,1)\n",
    "    aux1 = df4[['uf', 'complemento_federal']].groupby('uf').sum().sort_values(by='complemento_federal', ascending=False).reset_index()\n",
    "    sns.barplot(x='complemento_federal', y='uf', data=aux1)\n",
    "    plt.title('Valor total absoluto pago em complemento federal (profissionais + serviços hospitalares) por UF')\n",
    "    plt.xlabel('Valor pago em complemento federal em 10 milhões de R$')\n",
    "    plt.subplots_adjust(hspace = 0.5)\n",
    "\n",
    "    plt.subplot(1,2,2)\n",
    "    aux2 = df4[['uf', 'complemento_federal', 'valor_total']]\n",
    "    aux2['proporcao_complemento_federal'] = (aux2['complemento_federal'] / (aux2['complemento_federal'] + aux2['valor_total']) )*100\n",
    "    aux3 = aux2[['uf', 'proporcao_complemento_federal']].groupby('uf').mean().sort_values(by='proporcao_complemento_federal', ascending=False).reset_index()\n",
    "    sns.barplot(x='proporcao_complemento_federal', y='uf', data=aux3)\n",
    "    plt.title('Proporção de complemento federal em comparação com valor total pago por internações por UF')\n",
    "    plt.xlabel('Proporção de complemento federal em comparação com valor total pago por internações por UF em % - média');\n",
    "\n"
   ]
  },
  {
   "cell_type": "code",
   "execution_count": null,
   "id": "89e9397d",
   "metadata": {
    "ExecuteTime": {
     "end_time": "2021-11-11T04:13:47.738802Z",
     "start_time": "2021-11-11T04:13:47.738792Z"
    },
    "hidden": true
   },
   "outputs": [],
   "source": [
    "aux = df4[['data', 'valor_total', 'complemento_federal', 'regiao']].groupby(['data', 'regiao']).sum().reset_index()\n",
    "\n",
    "plt.subplot(1,2,1)\n",
    "sns.lineplot(x='data', y='complemento_federal', hue='regiao', data=aux)\n",
    "plt.title('Valores absolutos do valor pago em complemento federal ao longo do tempo')\n",
    "plt.ylabel('Complemento federal em milhão de R$')\n",
    "\n",
    "plt.subplot(1,2,2)\n",
    "sns.lineplot(x='data', y='valor_total', hue='regiao', data=aux)\n",
    "plt.title('Valores absolutos totais pagos em internação ao longo do tempo')\n",
    "plt.ylabel('Complemento federal em 100 milhões de R$')"
   ]
  },
  {
   "cell_type": "markdown",
   "id": "521a8cf7",
   "metadata": {
    "hidden": true
   },
   "source": [
    "Observações interessantes: pontos de máxima de valor total máximo não coincidem com os de máxima de complemento federal"
   ]
  },
  {
   "cell_type": "markdown",
   "id": "3b4b1fd5",
   "metadata": {
    "hidden": true
   },
   "source": [
    "### H3. A maior proporção dos complementos gestor em relação ao valor total pago deve estar na região sul.\n",
    "**FALSA.** AA maior proporção dos complementos gestor em relação ao valor total pago está na região centro-oeste. "
   ]
  },
  {
   "cell_type": "code",
   "execution_count": null,
   "id": "fffb2bc6",
   "metadata": {
    "ExecuteTime": {
     "end_time": "2021-11-11T04:13:47.743896Z",
     "start_time": "2021-11-11T04:13:47.743880Z"
    },
    "hidden": true
   },
   "outputs": [],
   "source": [
    "with warnings.catch_warnings():\n",
    "    warnings.simplefilter('ignore')\n",
    "    plt.subplot(2,1,1)\n",
    "    aux1 = df4[['regiao', 'complemento_gestor']].groupby('regiao').sum().sort_values(by='complemento_gestor', ascending=False).reset_index()\n",
    "    sns.barplot(x='complemento_gestor', y='regiao', data=aux1)\n",
    "    plt.title('Valor total absoluto pago em complemento gestor (profissionais + serviços hospitalares) por região')\n",
    "    plt.xlabel('Valor pago em complemento gestor em 10 milhões de R$')\n",
    "    plt.subplots_adjust(hspace = 0.5)\n",
    "\n",
    "    plt.subplot(2,1,2)\n",
    "    aux2 = df4[['regiao', 'complemento_gestor', 'valor_total']]\n",
    "    aux2['proporcao_complemento_gestor'] = (aux2['complemento_gestor'] / (aux2['complemento_gestor'] + aux2['valor_total']) )*100\n",
    "    aux3 = aux2[['regiao', 'proporcao_complemento_gestor']].groupby('regiao').mean().sort_values(by='proporcao_complemento_gestor', ascending=False).reset_index()\n",
    "    sns.barplot(x='proporcao_complemento_gestor', y='regiao', data=aux3)\n",
    "    plt.title('Proporção de complemento gestor em comparação com valor total pago por internações por região')\n",
    "    plt.xlabel('Proporção de complemento gestor em comparação com valor total pago por internações por região em %');"
   ]
  },
  {
   "cell_type": "code",
   "execution_count": null,
   "id": "39856055",
   "metadata": {
    "ExecuteTime": {
     "end_time": "2021-11-11T04:13:47.744705Z",
     "start_time": "2021-11-11T04:13:47.744694Z"
    },
    "hidden": true
   },
   "outputs": [],
   "source": [
    "with warnings.catch_warnings():\n",
    "    warnings.simplefilter('ignore')\n",
    "    plt.subplot(1,2,1)\n",
    "    aux1 = df4[['uf', 'complemento_gestor']].groupby('uf').sum().sort_values(by='complemento_gestor', ascending=False).reset_index()\n",
    "    sns.barplot(x='complemento_gestor', y='uf', data=aux1)\n",
    "    plt.title('Valor total absoluto pago em complemento gestor (profissionais + serviços hospitalares) por UF')\n",
    "    plt.xlabel('Valor pago em complemento gestor em 10 milhões de R$')\n",
    "    plt.subplots_adjust(hspace = 0.5)\n",
    "\n",
    "    plt.subplot(1,2,2)\n",
    "    aux2 = df4[['uf', 'complemento_gestor', 'valor_total']]\n",
    "    aux2['proporcao_complemento_gestor'] = (aux2['complemento_gestor'] / (aux2['complemento_gestor'] + aux2['valor_total']) )*100\n",
    "    aux3 = aux2[['uf', 'proporcao_complemento_gestor']].groupby('uf').mean().sort_values(by='proporcao_complemento_gestor', ascending=False).reset_index()\n",
    "    sns.barplot(x='proporcao_complemento_gestor', y='uf', data=aux3)\n",
    "    plt.title('Proporção de complemento gestor em comparação com valor total pago por internações por UF')\n",
    "    plt.xlabel('Proporção de complemento gestor em comparação com valor total pago por internações por UF em %- média');"
   ]
  },
  {
   "cell_type": "code",
   "execution_count": null,
   "id": "3bbff978",
   "metadata": {
    "ExecuteTime": {
     "end_time": "2021-11-11T04:13:47.745547Z",
     "start_time": "2021-11-11T04:13:47.745538Z"
    },
    "hidden": true
   },
   "outputs": [],
   "source": [
    "aux = df4[['data', 'valor_total', 'complemento_gestor', 'regiao']].groupby(['data', 'regiao']).sum().reset_index()\n",
    "\n",
    "plt.subplot(1,2,1)\n",
    "sns.lineplot(x='data', y='complemento_gestor', hue='regiao', data=aux)\n",
    "plt.title('Valores absolutos do valor pago em complemento gestor ao longo do tempo')\n",
    "plt.ylabel('Complemento gestor em milhão de R$')\n",
    "\n",
    "plt.subplot(1,2,2)\n",
    "sns.lineplot(x='data', y='valor_total', hue='regiao', data=aux)\n",
    "plt.title('Valores absolutos totais pagos em internação ao longo do tempo')\n",
    "plt.ylabel('Complemento gestor em 100 milhões de R$');"
   ]
  },
  {
   "cell_type": "markdown",
   "id": "e0345cee",
   "metadata": {
    "hidden": true
   },
   "source": [
    "### H4. O valor médio por internação dos serviços profissionais deve ser maior na região Sudeste e Sul, respectivamente.\n",
    "**FALSA.** O valor médio por internação dos serviços profissionais é maior na região Sul e Sudeste, respectivamente. Contudo, o estado com maior valor médio de serviços de profissionais é o Paraná"
   ]
  },
  {
   "cell_type": "code",
   "execution_count": null,
   "id": "f7de4df7",
   "metadata": {
    "ExecuteTime": {
     "end_time": "2021-11-11T04:13:47.752680Z",
     "start_time": "2021-11-11T04:13:47.752646Z"
    },
    "hidden": true
   },
   "outputs": [],
   "source": [
    "with warnings.catch_warnings():\n",
    "    warnings.simplefilter('ignore')\n",
    "    plt.subplot(2,2,1)\n",
    "    aux = df4[['regiao', 'valor_serviços_profissionais', 'internacoes']]\n",
    "    aux['valor_serv_prof_internacao'] = aux['valor_serviços_profissionais'] / aux['internacoes']\n",
    "    aux = aux.groupby('regiao').mean().sort_values(by='valor_serv_prof_internacao', ascending=False).reset_index()\n",
    "    sns.barplot(x='valor_serv_prof_internacao', y='regiao', data=aux)\n",
    "    plt.title('Valor médio dos serviços profissionais por região')\n",
    "    plt.xlabel('Valor médio dos serviçõs profissionais em R$');\n",
    "\n",
    "    plt.subplot(2,2,(2,4))\n",
    "    aux = df4[['uf', 'valor_serviços_profissionais', 'internacoes']]\n",
    "    aux['valor_serv_prof_internacao'] = aux['valor_serviços_profissionais'] / aux['internacoes']\n",
    "    aux = aux.groupby('uf').mean().sort_values(by='valor_serv_prof_internacao', ascending=False).reset_index()\n",
    "    sns.barplot(x='valor_serv_prof_internacao', y='uf', data=aux)\n",
    "    plt.title('Valor médio dos serviços profissionais por UF')\n",
    "    plt.xlabel('Valor médio dos serviçõs profissionais em R$');\n",
    "\n",
    "    plt.subplot(2,2,3)\n",
    "    aux = df4[['data','regiao', 'valor_serviços_profissionais', 'internacoes']]\n",
    "    aux['valor_serv_prof_internacao'] = aux['valor_serviços_profissionais'] / aux['internacoes']\n",
    "    aux = aux.groupby(['data', 'regiao']).mean().sort_values(by='valor_serv_prof_internacao', ascending=False).reset_index()\n",
    "    sns.lineplot(x='data', y='valor_serv_prof_internacao', hue='regiao', data=aux)\n",
    "    plt.title('Valor médio de serviços profissionais ao longo do tempo por região')\n",
    "    plt.ylabel('Valor médio de serviços profissionais em R$');"
   ]
  },
  {
   "cell_type": "markdown",
   "id": "d7836cb9",
   "metadata": {
    "heading_collapsed": true,
    "hidden": true
   },
   "source": [
    "### H5. O maior número médio de leitos ocupados  deve estar na região Sudeste.\n",
    "**VERDADEIRA.** O maior número médio de leitos ocupados está na região Sudeste"
   ]
  },
  {
   "cell_type": "code",
   "execution_count": null,
   "id": "191e0d10",
   "metadata": {
    "ExecuteTime": {
     "end_time": "2021-11-11T04:13:47.753480Z",
     "start_time": "2021-11-11T04:13:47.753469Z"
    },
    "hidden": true
   },
   "outputs": [],
   "source": [
    "plt.subplot(2,2,1)\n",
    "aux = df4[['regiao','uf', 'no_leitos_ocupado']].groupby('regiao').mean().sort_values(by='no_leitos_ocupado', ascending=False).reset_index()\n",
    "sns.barplot(x='no_leitos_ocupado', y='regiao', data=aux)\n",
    "plt.title('Média de número de leitos ocupados por região')\n",
    "plt.xlabel('Média de número de leitos ocupados')\n",
    "\n",
    "plt.subplot(2,2,(2,4))\n",
    "aux = df4[['regiao','uf', 'no_leitos_ocupado']].groupby('uf').mean().sort_values(by='no_leitos_ocupado', ascending=False).reset_index()\n",
    "sns.barplot(x='no_leitos_ocupado', y='uf', data=aux)\n",
    "plt.title('Média de número de leitos ocupados por UF')\n",
    "plt.xlabel('Média de número de leitos ocupados')\n",
    "\n",
    "\n",
    "plt.subplot(2,2,3)\n",
    "aux = df4[['data', 'regiao', 'no_leitos_ocupado']].groupby(['data', 'regiao']).mean().sort_values(by='no_leitos_ocupado', ascending=False).reset_index()\n",
    "sns.lineplot(x='data', y='no_leitos_ocupado', hue='regiao', data=aux)\n",
    "plt.title('Média de número de leitos ocupados por região ao longo do tempo')\n",
    "plt.ylabel('Média de número de leitos ocupados');"
   ]
  },
  {
   "cell_type": "markdown",
   "id": "19441061",
   "metadata": {
    "heading_collapsed": true,
    "hidden": true
   },
   "source": [
    "### H6. A região sudeste é a que deve possuir mais leitos ocupados por habitante\n",
    "**FALSO.** A região Sul é a que possui mais leitos ocupados por habitante, liderados pelo estado do Paraná"
   ]
  },
  {
   "cell_type": "code",
   "execution_count": 3,
   "id": "c0b55743",
   "metadata": {
    "ExecuteTime": {
     "end_time": "2021-11-11T04:13:47.790048Z",
     "start_time": "2021-11-11T04:13:47.759021Z"
    },
    "hidden": true
   },
   "outputs": [
    {
     "ename": "NameError",
     "evalue": "name 'plt' is not defined",
     "output_type": "error",
     "traceback": [
      "\u001b[0;31m---------------------------------------------------------------------------\u001b[0m",
      "\u001b[0;31mNameError\u001b[0m                                 Traceback (most recent call last)",
      "\u001b[0;32m/tmp/ipykernel_71176/829304505.py\u001b[0m in \u001b[0;36m<module>\u001b[0;34m\u001b[0m\n\u001b[0;32m----> 1\u001b[0;31m \u001b[0mplt\u001b[0m\u001b[0;34m.\u001b[0m\u001b[0msubplot\u001b[0m\u001b[0;34m(\u001b[0m\u001b[0;36m1\u001b[0m\u001b[0;34m,\u001b[0m\u001b[0;36m2\u001b[0m\u001b[0;34m,\u001b[0m\u001b[0;36m1\u001b[0m\u001b[0;34m)\u001b[0m\u001b[0;34m\u001b[0m\u001b[0;34m\u001b[0m\u001b[0m\n\u001b[0m\u001b[1;32m      2\u001b[0m \u001b[0maux\u001b[0m \u001b[0;34m=\u001b[0m \u001b[0mdf4\u001b[0m\u001b[0;34m[\u001b[0m\u001b[0;34m[\u001b[0m\u001b[0;34m'no_leitos_ocupado'\u001b[0m\u001b[0;34m,\u001b[0m \u001b[0;34m'regiao'\u001b[0m\u001b[0;34m,\u001b[0m \u001b[0;34m'populacao'\u001b[0m\u001b[0;34m]\u001b[0m\u001b[0;34m]\u001b[0m\u001b[0;34m.\u001b[0m\u001b[0mgroupby\u001b[0m\u001b[0;34m(\u001b[0m\u001b[0;34m'regiao'\u001b[0m\u001b[0;34m)\u001b[0m\u001b[0;34m.\u001b[0m\u001b[0mmean\u001b[0m\u001b[0;34m(\u001b[0m\u001b[0;34m)\u001b[0m\u001b[0;34m.\u001b[0m\u001b[0mreset_index\u001b[0m\u001b[0;34m(\u001b[0m\u001b[0;34m)\u001b[0m\u001b[0;34m\u001b[0m\u001b[0;34m\u001b[0m\u001b[0m\n\u001b[1;32m      3\u001b[0m \u001b[0maux\u001b[0m\u001b[0;34m[\u001b[0m\u001b[0;34m'no_leitos_pop'\u001b[0m\u001b[0;34m]\u001b[0m \u001b[0;34m=\u001b[0m \u001b[0maux\u001b[0m\u001b[0;34m[\u001b[0m\u001b[0;34m'no_leitos_ocupado'\u001b[0m\u001b[0;34m]\u001b[0m \u001b[0;34m/\u001b[0m \u001b[0maux\u001b[0m\u001b[0;34m[\u001b[0m\u001b[0;34m'populacao'\u001b[0m\u001b[0;34m]\u001b[0m \u001b[0;34m*\u001b[0m \u001b[0;36m100000\u001b[0m\u001b[0;34m\u001b[0m\u001b[0;34m\u001b[0m\u001b[0m\n\u001b[1;32m      4\u001b[0m \u001b[0maux\u001b[0m \u001b[0;34m=\u001b[0m \u001b[0maux\u001b[0m\u001b[0;34m.\u001b[0m\u001b[0msort_values\u001b[0m\u001b[0;34m(\u001b[0m\u001b[0mby\u001b[0m\u001b[0;34m=\u001b[0m\u001b[0;34m'no_leitos_pop'\u001b[0m\u001b[0;34m,\u001b[0m \u001b[0mascending\u001b[0m\u001b[0;34m=\u001b[0m\u001b[0;32mFalse\u001b[0m\u001b[0;34m)\u001b[0m\u001b[0;34m\u001b[0m\u001b[0;34m\u001b[0m\u001b[0m\n\u001b[1;32m      5\u001b[0m \u001b[0msns\u001b[0m\u001b[0;34m.\u001b[0m\u001b[0mbarplot\u001b[0m\u001b[0;34m(\u001b[0m\u001b[0mx\u001b[0m\u001b[0;34m=\u001b[0m\u001b[0;34m'no_leitos_pop'\u001b[0m\u001b[0;34m,\u001b[0m \u001b[0my\u001b[0m\u001b[0;34m=\u001b[0m\u001b[0;34m'regiao'\u001b[0m\u001b[0;34m,\u001b[0m \u001b[0mdata\u001b[0m\u001b[0;34m=\u001b[0m\u001b[0maux\u001b[0m\u001b[0;34m)\u001b[0m\u001b[0;34m\u001b[0m\u001b[0;34m\u001b[0m\u001b[0m\n",
      "\u001b[0;31mNameError\u001b[0m: name 'plt' is not defined"
     ]
    }
   ],
   "source": [
    "plt.subplot(1,2,1)\n",
    "aux = df4[['no_leitos_ocupado', 'regiao', 'populacao']].groupby('regiao').mean().reset_index()\n",
    "aux['no_leitos_pop'] = aux['no_leitos_ocupado'] / aux['populacao'] * 100000\n",
    "aux = aux.sort_values(by='no_leitos_pop', ascending=False)\n",
    "sns.barplot(x='no_leitos_pop', y='regiao', data=aux)\n",
    "plt.title('Número médio de leitos ocupados a cada 100 mil habitantes de cada região')\n",
    "plt.xlabel('Número de leitos ocupados por habitantes /100000 habitantes ');\n",
    "\n",
    "plt.subplot(1,2,2)\n",
    "aux = df4[['no_leitos_ocupado', 'uf', 'populacao']].groupby('uf').mean().reset_index()\n",
    "aux['no_leitos_pop'] = aux['no_leitos_ocupado'] / aux['populacao'] * 100000\n",
    "aux = aux.sort_values(by='no_leitos_pop', ascending=False)\n",
    "sns.barplot(x='no_leitos_pop', y='uf', data=aux)\n",
    "plt.title('Número médio de leitos ocupados a cada 100 mil habitantes de cada UF')\n",
    "plt.xlabel('Número de leitos ocupados por habitantes /100000 habitantes ');"
   ]
  },
  {
   "cell_type": "markdown",
   "id": "59ae9180",
   "metadata": {
    "heading_collapsed": true,
    "hidden": true
   },
   "source": [
    "### H7. Os estados da região Norte devem ser os que possuem menos leitos ocupados por habitantes.\n",
    "**VERDADEIRA.** Conforme visto em nas plotagens da H6. Porém RR e RO possuem ocupações bem acima da média do restante da região"
   ]
  },
  {
   "cell_type": "markdown",
   "id": "8211e7a1",
   "metadata": {
    "heading_collapsed": true,
    "hidden": true
   },
   "source": [
    "### H8. O valor médio das internações pagas deve ser maior no estado de São Paulo e Distrito Federal, respectivamente \n",
    "**FALSA.** O valor médio das internações pagas é maior no estado do Paraná, Santa Catarina e Rio Grande do Sul, respectivamente. São Paulo e DF ocupam a 7a e 16a posição, respectivamente."
   ]
  },
  {
   "cell_type": "code",
   "execution_count": null,
   "id": "516ac0e5",
   "metadata": {
    "ExecuteTime": {
     "end_time": "2021-11-11T04:13:47.791267Z",
     "start_time": "2021-11-11T04:13:47.791256Z"
    },
    "hidden": true
   },
   "outputs": [],
   "source": [
    "aux = df4[['valor_medio_intern', 'uf']].groupby('uf').mean().sort_values(by='valor_medio_intern', ascending=False).reset_index()\n",
    "sns.barplot(y='uf', x='valor_medio_intern', data=aux)\n",
    "plt.title('Valor médio das internações por UF')\n",
    "plt.xlabel('Valor médio das internações em R$');"
   ]
  },
  {
   "cell_type": "code",
   "execution_count": null,
   "id": "aa010c88",
   "metadata": {
    "ExecuteTime": {
     "end_time": "2021-11-11T04:13:47.792041Z",
     "start_time": "2021-11-11T04:13:47.792032Z"
    },
    "hidden": true
   },
   "outputs": [],
   "source": [
    "aux = df4[['data', 'valor_medio_intern', 'uf']].groupby(['data','uf']).mean().sort_values(by='valor_medio_intern', ascending=False).reset_index()\n",
    "sns.lineplot(x='data', y='valor_medio_intern', hue='uf',data=aux)\n",
    "plt.title('Valor médio das internações por UF ao longo do tempo')\n",
    "plt.ylabel('Valor médio das internações em R$');"
   ]
  },
  {
   "cell_type": "markdown",
   "id": "e448f56a",
   "metadata": {
    "hidden": true
   },
   "source": [
    "### H9. O tempo médio de permanência deve ser maior em estados do Nordeste \n",
    "**FALSA.** O tempo médio de permanência é maior na região Sudeste, com destaque para o Rio de Janeiro. Para quases todas as regiões há um aumento no tempo médio de permanência em janeiro e julho"
   ]
  },
  {
   "cell_type": "code",
   "execution_count": 4,
   "id": "d899adcb",
   "metadata": {
    "ExecuteTime": {
     "end_time": "2021-11-11T04:13:47.830529Z",
     "start_time": "2021-11-11T04:13:47.801574Z"
    },
    "hidden": true
   },
   "outputs": [
    {
     "ename": "NameError",
     "evalue": "name 'plt' is not defined",
     "output_type": "error",
     "traceback": [
      "\u001b[0;31m---------------------------------------------------------------------------\u001b[0m",
      "\u001b[0;31mNameError\u001b[0m                                 Traceback (most recent call last)",
      "\u001b[0;32m/tmp/ipykernel_71176/1922799302.py\u001b[0m in \u001b[0;36m<module>\u001b[0;34m\u001b[0m\n\u001b[0;32m----> 1\u001b[0;31m \u001b[0mplt\u001b[0m\u001b[0;34m.\u001b[0m\u001b[0msubplot\u001b[0m\u001b[0;34m(\u001b[0m\u001b[0;36m2\u001b[0m\u001b[0;34m,\u001b[0m\u001b[0;36m2\u001b[0m\u001b[0;34m,\u001b[0m\u001b[0;36m1\u001b[0m\u001b[0;34m)\u001b[0m\u001b[0;34m\u001b[0m\u001b[0;34m\u001b[0m\u001b[0m\n\u001b[0m\u001b[1;32m      2\u001b[0m \u001b[0maux\u001b[0m \u001b[0;34m=\u001b[0m \u001b[0mdf4\u001b[0m\u001b[0;34m[\u001b[0m\u001b[0;34m[\u001b[0m\u001b[0;34m'regiao'\u001b[0m\u001b[0;34m,\u001b[0m \u001b[0;34m'media_permanencia'\u001b[0m\u001b[0;34m]\u001b[0m\u001b[0;34m]\u001b[0m\u001b[0;34m.\u001b[0m\u001b[0mgroupby\u001b[0m\u001b[0;34m(\u001b[0m\u001b[0;34m'regiao'\u001b[0m\u001b[0;34m)\u001b[0m\u001b[0;34m.\u001b[0m\u001b[0mmean\u001b[0m\u001b[0;34m(\u001b[0m\u001b[0;34m)\u001b[0m\u001b[0;34m.\u001b[0m\u001b[0msort_values\u001b[0m\u001b[0;34m(\u001b[0m\u001b[0mby\u001b[0m\u001b[0;34m=\u001b[0m\u001b[0;34m'media_permanencia'\u001b[0m\u001b[0;34m,\u001b[0m \u001b[0mascending\u001b[0m\u001b[0;34m=\u001b[0m\u001b[0;32mFalse\u001b[0m\u001b[0;34m)\u001b[0m\u001b[0;34m.\u001b[0m\u001b[0mreset_index\u001b[0m\u001b[0;34m(\u001b[0m\u001b[0;34m)\u001b[0m\u001b[0;34m\u001b[0m\u001b[0;34m\u001b[0m\u001b[0m\n\u001b[1;32m      3\u001b[0m \u001b[0msns\u001b[0m\u001b[0;34m.\u001b[0m\u001b[0mbarplot\u001b[0m\u001b[0;34m(\u001b[0m\u001b[0mx\u001b[0m\u001b[0;34m=\u001b[0m\u001b[0;34m'media_permanencia'\u001b[0m\u001b[0;34m,\u001b[0m \u001b[0my\u001b[0m\u001b[0;34m=\u001b[0m\u001b[0;34m'regiao'\u001b[0m\u001b[0;34m,\u001b[0m \u001b[0mdata\u001b[0m\u001b[0;34m=\u001b[0m\u001b[0maux\u001b[0m\u001b[0;34m)\u001b[0m\u001b[0;34m\u001b[0m\u001b[0;34m\u001b[0m\u001b[0m\n\u001b[1;32m      4\u001b[0m \u001b[0mplt\u001b[0m\u001b[0;34m.\u001b[0m\u001b[0mtitle\u001b[0m\u001b[0;34m(\u001b[0m\u001b[0;34m'Média de permanência em internação por região'\u001b[0m\u001b[0;34m)\u001b[0m\u001b[0;34m\u001b[0m\u001b[0;34m\u001b[0m\u001b[0m\n\u001b[1;32m      5\u001b[0m \u001b[0mplt\u001b[0m\u001b[0;34m.\u001b[0m\u001b[0mxlabel\u001b[0m\u001b[0;34m(\u001b[0m\u001b[0;34m'Média de permanência em internação em dias'\u001b[0m\u001b[0;34m)\u001b[0m\u001b[0;34m\u001b[0m\u001b[0;34m\u001b[0m\u001b[0m\n",
      "\u001b[0;31mNameError\u001b[0m: name 'plt' is not defined"
     ]
    }
   ],
   "source": [
    "plt.subplot(2,2,1)\n",
    "aux = df4[['regiao', 'media_permanencia']].groupby('regiao').mean().sort_values(by='media_permanencia', ascending=False).reset_index()\n",
    "sns.barplot(x='media_permanencia', y='regiao', data=aux)\n",
    "plt.title('Média de permanência em internação por região')\n",
    "plt.xlabel('Média de permanência em internação em dias')\n",
    "\n",
    "plt.subplot(2,2,(2,4))\n",
    "aux = df4[['uf', 'media_permanencia']].groupby('uf').mean().sort_values(by='media_permanencia', ascending=False).reset_index()\n",
    "sns.barplot(x='media_permanencia', y='uf', data=aux)\n",
    "plt.title('Média de permanência em internação por UF')\n",
    "plt.xlabel('Média de permanência em internação em dias');\n",
    "\n",
    "plt.subplot(2,2,3)\n",
    "aux = df4[['data', 'regiao', 'media_permanencia']].groupby(['data','regiao']).mean().sort_values(by='media_permanencia', ascending=False).reset_index()\n",
    "sns.lineplot(x='data', y='media_permanencia', hue='regiao', data=aux)\n",
    "plt.title('Média de permanência em internação por região ao longo do tempo')\n",
    "plt.ylabel('Média de permanência em internação em dias');"
   ]
  },
  {
   "cell_type": "markdown",
   "id": "7e2a41bc",
   "metadata": {
    "hidden": true
   },
   "source": [
    "### H10. A taxa de mortalidade deve ser maior em estados do Norte e Nordesete, respectivamente. \n",
    "**FALSA.** A taxa de mortalidade é maior em estados do Sudeste e Sul, respectivamente, com destaque para o Rio de Janeiro. <br>\n",
    "Em agosto de 2018 a taxa de mortalidade de todas as regiões decaiu, exceto para região sul, que aumentou"
   ]
  },
  {
   "cell_type": "code",
   "execution_count": null,
   "id": "27d25748",
   "metadata": {
    "ExecuteTime": {
     "end_time": "2021-11-11T04:13:47.832160Z",
     "start_time": "2021-11-11T04:13:47.832147Z"
    },
    "hidden": true
   },
   "outputs": [],
   "source": [
    "plt.subplot(2,2,1)\n",
    "aux = df4[['regiao', 'taxa_mortalidade']].groupby('regiao').mean().sort_values(by='taxa_mortalidade', ascending=False).reset_index()\n",
    "sns.barplot(x='taxa_mortalidade', y='regiao', data=aux)\n",
    "plt.title('Taxa de mortalidade média por região')\n",
    "plt.xlabel('Taxa de mortalidade média em %')\n",
    "\n",
    "plt.subplot(2,2,(2,4))\n",
    "aux = df4[['uf', 'taxa_mortalidade']].groupby('uf').mean().sort_values(by='taxa_mortalidade', ascending=False).reset_index()\n",
    "sns.barplot(x='taxa_mortalidade', y='uf', data=aux)\n",
    "plt.title('Taxa de mortalidade média por UF')\n",
    "plt.xlabel('Taxa de mortalidade média em %')\n",
    "\n",
    "plt.subplot(2,2,3)\n",
    "aux = df4[['data', 'regiao', 'taxa_mortalidade']].groupby(['data','regiao']).mean().sort_values(by='taxa_mortalidade', ascending=False).reset_index()\n",
    "sns.lineplot(x='data', y='taxa_mortalidade', hue='regiao', data=aux)\n",
    "plt.title('Taxa de mortalidade média em internação por região ao longo do tempo')\n",
    "plt.ylabel('Taxa de mortalidade média em %');"
   ]
  },
  {
   "cell_type": "markdown",
   "id": "f0e77039",
   "metadata": {
    "hidden": true
   },
   "source": [
    "### H11. A região Sudeste deve concentrar o maior número de prorrogaões de internação que os outros estados.\n",
    "**VERDADEIRA.** A região Sudeste concentra o maior número de prorrogações tanto em valor absoltuo quanto em proporção ao total de AIH aprovadas, com destaque para os estados de São Paulo e Rio de Janeiro. Alagoas também possui taxas bastante elevadas de prorrogações"
   ]
  },
  {
   "cell_type": "code",
   "execution_count": 5,
   "id": "cb79ff4e",
   "metadata": {
    "ExecuteTime": {
     "end_time": "2021-11-11T04:13:47.879120Z",
     "start_time": "2021-11-11T04:13:47.845652Z"
    },
    "hidden": true
   },
   "outputs": [
    {
     "ename": "NameError",
     "evalue": "name 'plt' is not defined",
     "output_type": "error",
     "traceback": [
      "\u001b[0;31m---------------------------------------------------------------------------\u001b[0m",
      "\u001b[0;31mNameError\u001b[0m                                 Traceback (most recent call last)",
      "\u001b[0;32m/tmp/ipykernel_71176/902925252.py\u001b[0m in \u001b[0;36m<module>\u001b[0;34m\u001b[0m\n\u001b[1;32m      1\u001b[0m \u001b[0;32mwith\u001b[0m \u001b[0mwarnings\u001b[0m\u001b[0;34m.\u001b[0m\u001b[0mcatch_warnings\u001b[0m\u001b[0;34m(\u001b[0m\u001b[0;34m)\u001b[0m\u001b[0;34m:\u001b[0m\u001b[0;34m\u001b[0m\u001b[0;34m\u001b[0m\u001b[0m\n\u001b[1;32m      2\u001b[0m     \u001b[0mwarnings\u001b[0m\u001b[0;34m.\u001b[0m\u001b[0msimplefilter\u001b[0m\u001b[0;34m(\u001b[0m\u001b[0;34m'ignore'\u001b[0m\u001b[0;34m)\u001b[0m\u001b[0;34m\u001b[0m\u001b[0;34m\u001b[0m\u001b[0m\n\u001b[0;32m----> 3\u001b[0;31m     \u001b[0mplt\u001b[0m\u001b[0;34m.\u001b[0m\u001b[0msubplot\u001b[0m\u001b[0;34m(\u001b[0m\u001b[0;36m3\u001b[0m\u001b[0;34m,\u001b[0m\u001b[0;36m3\u001b[0m\u001b[0;34m,\u001b[0m\u001b[0;36m1\u001b[0m\u001b[0;34m)\u001b[0m\u001b[0;34m\u001b[0m\u001b[0;34m\u001b[0m\u001b[0m\n\u001b[0m\u001b[1;32m      4\u001b[0m     \u001b[0maux\u001b[0m\u001b[0;34m=\u001b[0m\u001b[0mdf4\u001b[0m\u001b[0;34m[\u001b[0m\u001b[0;34m[\u001b[0m\u001b[0;34m'regiao'\u001b[0m\u001b[0;34m,\u001b[0m \u001b[0;34m'prorrogacoes'\u001b[0m\u001b[0;34m]\u001b[0m\u001b[0;34m]\u001b[0m\u001b[0;34m.\u001b[0m\u001b[0mgroupby\u001b[0m\u001b[0;34m(\u001b[0m\u001b[0;34m'regiao'\u001b[0m\u001b[0;34m)\u001b[0m\u001b[0;34m.\u001b[0m\u001b[0msum\u001b[0m\u001b[0;34m(\u001b[0m\u001b[0;34m)\u001b[0m\u001b[0;34m.\u001b[0m\u001b[0msort_values\u001b[0m\u001b[0;34m(\u001b[0m\u001b[0mby\u001b[0m\u001b[0;34m=\u001b[0m\u001b[0;34m'prorrogacoes'\u001b[0m\u001b[0;34m,\u001b[0m \u001b[0mascending\u001b[0m\u001b[0;34m=\u001b[0m\u001b[0;32mFalse\u001b[0m\u001b[0;34m)\u001b[0m\u001b[0;34m.\u001b[0m\u001b[0mreset_index\u001b[0m\u001b[0;34m(\u001b[0m\u001b[0;34m)\u001b[0m\u001b[0;34m\u001b[0m\u001b[0;34m\u001b[0m\u001b[0m\n\u001b[1;32m      5\u001b[0m     \u001b[0msns\u001b[0m\u001b[0;34m.\u001b[0m\u001b[0mbarplot\u001b[0m\u001b[0;34m(\u001b[0m\u001b[0mx\u001b[0m\u001b[0;34m=\u001b[0m\u001b[0;34m'prorrogacoes'\u001b[0m\u001b[0;34m,\u001b[0m \u001b[0my\u001b[0m\u001b[0;34m=\u001b[0m\u001b[0;34m'regiao'\u001b[0m\u001b[0;34m,\u001b[0m \u001b[0mdata\u001b[0m\u001b[0;34m=\u001b[0m\u001b[0maux\u001b[0m\u001b[0;34m)\u001b[0m\u001b[0;34m\u001b[0m\u001b[0;34m\u001b[0m\u001b[0m\n",
      "\u001b[0;31mNameError\u001b[0m: name 'plt' is not defined"
     ]
    }
   ],
   "source": [
    "with warnings.catch_warnings():\n",
    "    warnings.simplefilter('ignore')\n",
    "    plt.subplot(3,3,1)\n",
    "    aux=df4[['regiao', 'prorrogacoes']].groupby('regiao').sum().sort_values(by='prorrogacoes', ascending=False).reset_index()\n",
    "    sns.barplot(x='prorrogacoes', y='regiao', data=aux)\n",
    "    plt.title('Numero de prorrogacoes absoluto por região')\n",
    "    plt.xlabel('Numero de prorrogacoes')\n",
    "\n",
    "    plt.subplot(3,3,(2,5))\n",
    "    aux=df4[['uf', 'prorrogacoes']].groupby('uf').sum().sort_values(by='prorrogacoes', ascending=False).reset_index()\n",
    "    sns.barplot(x='prorrogacoes', y='uf', data=aux)\n",
    "    plt.title('Numero de prorrogacoes absoluto por UF')\n",
    "    plt.xlabel('Numero de prorrogacoes')\n",
    "    plt.subplots_adjust(hspace = 0.5)\n",
    "\n",
    "    plt.subplot(3,3,4)\n",
    "    aux = df4[['regiao','aih_aprovadas', 'prorrogacoes']]\n",
    "    aux['proporcao_prorrog'] = (aux['prorrogacoes'] / aux['aih_aprovadas'] *100)\n",
    "    aux = aux.groupby('regiao').mean().sort_values(by='proporcao_prorrog', ascending=False).reset_index()\n",
    "    sns.barplot(x='proporcao_prorrog', y='regiao', data=aux)\n",
    "    plt.title('Proporção de prorrogações em relação as AIH aprovadas por região')\n",
    "    plt.xlabel('Proporção de prorrogações entre as AIH aprovadas (%)');\n",
    "    plt.subplots_adjust(hspace = 0.5)\n",
    "\n",
    "    plt.subplot(3,3,(3,6))\n",
    "    aux = df4[['uf','aih_aprovadas', 'prorrogacoes']]\n",
    "    aux['proporcao_prorrog'] = (aux['prorrogacoes'] / aux['aih_aprovadas'] *100)\n",
    "    aux = aux.groupby('uf').mean().sort_values(by='proporcao_prorrog', ascending=False).reset_index()\n",
    "    sns.barplot(x='proporcao_prorrog', y='uf', data=aux)\n",
    "    plt.title('Proporção de prorrogações em relação as AIH aprovadas por UF')\n",
    "    plt.xlabel('Proporção de prorrogações entre as AIH aprovadas (%)');\n",
    "    plt.subplots_adjust(hspace = 0.5)\n",
    "\n",
    "    plt.subplot(3,3,(7,9))\n",
    "    aux = df4[['data', 'regiao', 'prorrogacoes']].groupby(['data','regiao']).sum().sort_values(by='prorrogacoes', ascending=False).reset_index()\n",
    "    sns.lineplot(x='data', y='prorrogacoes', hue='regiao', data=aux)\n",
    "    plt.title('Prorrogações por região ao longo do tempo')\n",
    "    plt.ylabel('Número de prorrogações');"
   ]
  },
  {
   "cell_type": "markdown",
   "id": "beae2c16",
   "metadata": {
    "hidden": true
   },
   "source": [
    "### H12. O número médio de internações deve ser maior em meses de inverno para todos os estados do Brasil\n",
    "**FALSO**. O número médio de internações é maior em meses de inverno para quase todos os estados, exceto para o Pará, Maranhão, Piauí e Rondônia. Para os estados em que se aplica, há um aumento médio de 5,52% no número de internações durante os meses de inverno, com destaque para Acre e Distrito Federal"
   ]
  },
  {
   "cell_type": "code",
   "execution_count": null,
   "id": "1895b25a",
   "metadata": {
    "ExecuteTime": {
     "end_time": "2021-11-11T04:13:47.880473Z",
     "start_time": "2021-11-11T04:13:47.880462Z"
    },
    "hidden": true
   },
   "outputs": [],
   "source": [
    "inverno=['6', '7', '8', '9']\n",
    "aux = df4[df4['mes'].isin(inverno)]\n",
    "aux = aux[['internacoes', 'uf']].groupby('uf').mean().sort_values(by='internacoes', ascending=False).reset_index()\n",
    "aux.columns=['uf', 'internacoes_inverno']\n",
    "\n",
    "aux1 = df4[~df4['mes'].isin(inverno)]\n",
    "aux1 = aux1[['internacoes', 'uf']].groupby('uf').mean().sort_values(by='internacoes', ascending=False).reset_index()\n",
    "\n",
    "aux2 = aux.merge(aux1, on='uf')\n",
    "\n",
    "aux2['diferenca_%'] = ((aux2['internacoes_inverno'] / aux2['internacoes']) -1)*100"
   ]
  },
  {
   "cell_type": "code",
   "execution_count": 6,
   "id": "625a81f0",
   "metadata": {
    "ExecuteTime": {
     "end_time": "2021-11-11T04:13:47.911000Z",
     "start_time": "2021-11-11T04:13:47.888972Z"
    },
    "hidden": true
   },
   "outputs": [
    {
     "ename": "NameError",
     "evalue": "name 'aux2' is not defined",
     "output_type": "error",
     "traceback": [
      "\u001b[0;31m---------------------------------------------------------------------------\u001b[0m",
      "\u001b[0;31mNameError\u001b[0m                                 Traceback (most recent call last)",
      "\u001b[0;32m/tmp/ipykernel_71176/1833246345.py\u001b[0m in \u001b[0;36m<module>\u001b[0;34m\u001b[0m\n\u001b[0;32m----> 1\u001b[0;31m \u001b[0maux2\u001b[0m\u001b[0;34m[\u001b[0m\u001b[0maux2\u001b[0m\u001b[0;34m[\u001b[0m\u001b[0;34m'diferenca_%'\u001b[0m\u001b[0;34m]\u001b[0m \u001b[0;34m<\u001b[0m \u001b[0;36m0\u001b[0m\u001b[0;34m]\u001b[0m\u001b[0;34m\u001b[0m\u001b[0;34m\u001b[0m\u001b[0m\n\u001b[0m",
      "\u001b[0;31mNameError\u001b[0m: name 'aux2' is not defined"
     ]
    }
   ],
   "source": [
    "aux2[aux2['diferenca_%'] < 0]"
   ]
  },
  {
   "cell_type": "code",
   "execution_count": null,
   "id": "f861871d",
   "metadata": {
    "ExecuteTime": {
     "end_time": "2021-11-11T04:13:47.912291Z",
     "start_time": "2021-11-11T04:13:47.912280Z"
    },
    "hidden": true
   },
   "outputs": [],
   "source": [
    "aux2[aux2['diferenca_%'] >= 0]['diferenca_%'].mean()"
   ]
  },
  {
   "cell_type": "code",
   "execution_count": 7,
   "id": "eed7d203",
   "metadata": {
    "ExecuteTime": {
     "end_time": "2021-11-11T04:13:47.938194Z",
     "start_time": "2021-11-11T04:13:47.916025Z"
    },
    "hidden": true
   },
   "outputs": [
    {
     "ename": "NameError",
     "evalue": "name 'aux2' is not defined",
     "output_type": "error",
     "traceback": [
      "\u001b[0;31m---------------------------------------------------------------------------\u001b[0m",
      "\u001b[0;31mNameError\u001b[0m                                 Traceback (most recent call last)",
      "\u001b[0;32m/tmp/ipykernel_71176/2164972736.py\u001b[0m in \u001b[0;36m<module>\u001b[0;34m\u001b[0m\n\u001b[0;32m----> 1\u001b[0;31m \u001b[0maux2\u001b[0m\u001b[0;34m\u001b[0m\u001b[0;34m\u001b[0m\u001b[0m\n\u001b[0m",
      "\u001b[0;31mNameError\u001b[0m: name 'aux2' is not defined"
     ]
    }
   ],
   "source": [
    "aux2"
   ]
  },
  {
   "cell_type": "markdown",
   "id": "82e37c08",
   "metadata": {
    "hidden": true
   },
   "source": [
    "### H13. O tempo médio de internação deve ser maior nos meses de inverno\n",
    "**FALSA.** O tempo médio de internação é menor nos meses de inverno para 10 dos 26 estados. Para os estados em que se aplica, há um aumento de apenas 1,42% no tempo médio de permanência. "
   ]
  },
  {
   "cell_type": "code",
   "execution_count": null,
   "id": "f53cc0c6",
   "metadata": {
    "ExecuteTime": {
     "end_time": "2021-11-11T04:13:47.942387Z",
     "start_time": "2021-11-11T04:13:47.942353Z"
    },
    "hidden": true
   },
   "outputs": [],
   "source": [
    "df4.columns"
   ]
  },
  {
   "cell_type": "code",
   "execution_count": 8,
   "id": "2e43ed69",
   "metadata": {
    "ExecuteTime": {
     "end_time": "2021-11-11T04:13:47.979136Z",
     "start_time": "2021-11-11T04:13:47.952435Z"
    },
    "hidden": true
   },
   "outputs": [
    {
     "ename": "NameError",
     "evalue": "name 'df4' is not defined",
     "output_type": "error",
     "traceback": [
      "\u001b[0;31m---------------------------------------------------------------------------\u001b[0m",
      "\u001b[0;31mNameError\u001b[0m                                 Traceback (most recent call last)",
      "\u001b[0;32m/tmp/ipykernel_71176/2264997075.py\u001b[0m in \u001b[0;36m<module>\u001b[0;34m\u001b[0m\n\u001b[0;32m----> 1\u001b[0;31m \u001b[0maux\u001b[0m \u001b[0;34m=\u001b[0m \u001b[0mdf4\u001b[0m\u001b[0;34m[\u001b[0m\u001b[0mdf4\u001b[0m\u001b[0;34m[\u001b[0m\u001b[0;34m'mes'\u001b[0m\u001b[0;34m]\u001b[0m\u001b[0;34m.\u001b[0m\u001b[0misin\u001b[0m\u001b[0;34m(\u001b[0m\u001b[0minverno\u001b[0m\u001b[0;34m)\u001b[0m\u001b[0;34m]\u001b[0m\u001b[0;34m\u001b[0m\u001b[0;34m\u001b[0m\u001b[0m\n\u001b[0m\u001b[1;32m      2\u001b[0m \u001b[0maux\u001b[0m \u001b[0;34m=\u001b[0m \u001b[0maux\u001b[0m\u001b[0;34m[\u001b[0m\u001b[0;34m[\u001b[0m\u001b[0;34m'media_permanencia'\u001b[0m\u001b[0;34m,\u001b[0m \u001b[0;34m'uf'\u001b[0m\u001b[0;34m]\u001b[0m\u001b[0;34m]\u001b[0m\u001b[0;34m.\u001b[0m\u001b[0mgroupby\u001b[0m\u001b[0;34m(\u001b[0m\u001b[0;34m'uf'\u001b[0m\u001b[0;34m)\u001b[0m\u001b[0;34m.\u001b[0m\u001b[0mmean\u001b[0m\u001b[0;34m(\u001b[0m\u001b[0;34m)\u001b[0m\u001b[0;34m.\u001b[0m\u001b[0msort_values\u001b[0m\u001b[0;34m(\u001b[0m\u001b[0mby\u001b[0m\u001b[0;34m=\u001b[0m\u001b[0;34m'media_permanencia'\u001b[0m\u001b[0;34m,\u001b[0m \u001b[0mascending\u001b[0m\u001b[0;34m=\u001b[0m\u001b[0;32mFalse\u001b[0m\u001b[0;34m)\u001b[0m\u001b[0;34m.\u001b[0m\u001b[0mreset_index\u001b[0m\u001b[0;34m(\u001b[0m\u001b[0;34m)\u001b[0m\u001b[0;34m\u001b[0m\u001b[0;34m\u001b[0m\u001b[0m\n\u001b[1;32m      3\u001b[0m \u001b[0maux\u001b[0m\u001b[0;34m.\u001b[0m\u001b[0mcolumns\u001b[0m\u001b[0;34m=\u001b[0m\u001b[0;34m[\u001b[0m\u001b[0;34m'uf'\u001b[0m\u001b[0;34m,\u001b[0m \u001b[0;34m'media_permanencia_inverno'\u001b[0m\u001b[0;34m]\u001b[0m\u001b[0;34m\u001b[0m\u001b[0;34m\u001b[0m\u001b[0m\n\u001b[1;32m      4\u001b[0m \u001b[0;34m\u001b[0m\u001b[0m\n\u001b[1;32m      5\u001b[0m \u001b[0maux1\u001b[0m \u001b[0;34m=\u001b[0m \u001b[0mdf4\u001b[0m\u001b[0;34m[\u001b[0m\u001b[0;34m~\u001b[0m\u001b[0mdf4\u001b[0m\u001b[0;34m[\u001b[0m\u001b[0;34m'mes'\u001b[0m\u001b[0;34m]\u001b[0m\u001b[0;34m.\u001b[0m\u001b[0misin\u001b[0m\u001b[0;34m(\u001b[0m\u001b[0minverno\u001b[0m\u001b[0;34m)\u001b[0m\u001b[0;34m]\u001b[0m\u001b[0;34m\u001b[0m\u001b[0;34m\u001b[0m\u001b[0m\n",
      "\u001b[0;31mNameError\u001b[0m: name 'df4' is not defined"
     ]
    }
   ],
   "source": [
    "aux = df4[df4['mes'].isin(inverno)]\n",
    "aux = aux[['media_permanencia', 'uf']].groupby('uf').mean().sort_values(by='media_permanencia', ascending=False).reset_index()\n",
    "aux.columns=['uf', 'media_permanencia_inverno']\n",
    "\n",
    "aux1 = df4[~df4['mes'].isin(inverno)]\n",
    "aux1 = aux1[['media_permanencia', 'uf']].groupby('uf').mean().sort_values(by='media_permanencia', ascending=False).reset_index()\n",
    "\n",
    "aux2 = aux.merge(aux1, on='uf')\n",
    "\n",
    "aux2['diferenca_%'] = ((aux2['media_permanencia_inverno'] / aux2['media_permanencia']) -1)*100"
   ]
  },
  {
   "cell_type": "code",
   "execution_count": null,
   "id": "06c8b6a8",
   "metadata": {
    "ExecuteTime": {
     "end_time": "2021-11-11T04:13:47.980635Z",
     "start_time": "2021-11-11T04:13:47.980623Z"
    },
    "hidden": true
   },
   "outputs": [],
   "source": [
    "aux2[aux2['diferenca_%'] < 0]"
   ]
  },
  {
   "cell_type": "code",
   "execution_count": 9,
   "id": "40383beb",
   "metadata": {
    "ExecuteTime": {
     "end_time": "2021-11-11T04:13:48.010800Z",
     "start_time": "2021-11-11T04:13:47.989066Z"
    },
    "hidden": true,
    "scrolled": true
   },
   "outputs": [
    {
     "ename": "NameError",
     "evalue": "name 'aux2' is not defined",
     "output_type": "error",
     "traceback": [
      "\u001b[0;31m---------------------------------------------------------------------------\u001b[0m",
      "\u001b[0;31mNameError\u001b[0m                                 Traceback (most recent call last)",
      "\u001b[0;32m/tmp/ipykernel_71176/344596766.py\u001b[0m in \u001b[0;36m<module>\u001b[0;34m\u001b[0m\n\u001b[0;32m----> 1\u001b[0;31m \u001b[0maux2\u001b[0m\u001b[0;34m[\u001b[0m\u001b[0maux2\u001b[0m\u001b[0;34m[\u001b[0m\u001b[0;34m'diferenca_%'\u001b[0m\u001b[0;34m]\u001b[0m \u001b[0;34m>=\u001b[0m \u001b[0;36m0\u001b[0m\u001b[0;34m]\u001b[0m\u001b[0;34m[\u001b[0m\u001b[0;34m'diferenca_%'\u001b[0m\u001b[0;34m]\u001b[0m\u001b[0;34m.\u001b[0m\u001b[0mmean\u001b[0m\u001b[0;34m(\u001b[0m\u001b[0;34m)\u001b[0m\u001b[0;34m\u001b[0m\u001b[0;34m\u001b[0m\u001b[0m\n\u001b[0m",
      "\u001b[0;31mNameError\u001b[0m: name 'aux2' is not defined"
     ]
    }
   ],
   "source": [
    "aux2[aux2['diferenca_%'] >= 0]['diferenca_%'].mean()"
   ]
  },
  {
   "cell_type": "code",
   "execution_count": null,
   "id": "a8b717e2",
   "metadata": {
    "ExecuteTime": {
     "end_time": "2021-11-11T04:13:48.012054Z",
     "start_time": "2021-11-11T04:13:48.012043Z"
    },
    "hidden": true,
    "scrolled": true
   },
   "outputs": [],
   "source": [
    "aux2"
   ]
  },
  {
   "cell_type": "markdown",
   "id": "373ff605",
   "metadata": {
    "hidden": true
   },
   "source": [
    "### H14. O comportamento das internações no tempo deve ser igual para todos os estados do Brasil\n",
    "**VERDADEIRA.** O comportamento das internações no tempo (crescimentos e declínios é igual para todos os estados do Brasil"
   ]
  },
  {
   "cell_type": "code",
   "execution_count": 10,
   "id": "4379f613",
   "metadata": {
    "ExecuteTime": {
     "end_time": "2021-11-11T04:13:48.051330Z",
     "start_time": "2021-11-11T04:13:48.021813Z"
    },
    "hidden": true
   },
   "outputs": [
    {
     "ename": "NameError",
     "evalue": "name 'plt' is not defined",
     "output_type": "error",
     "traceback": [
      "\u001b[0;31m---------------------------------------------------------------------------\u001b[0m",
      "\u001b[0;31mNameError\u001b[0m                                 Traceback (most recent call last)",
      "\u001b[0;32m/tmp/ipykernel_71176/3676190452.py\u001b[0m in \u001b[0;36m<module>\u001b[0;34m\u001b[0m\n\u001b[0;32m----> 1\u001b[0;31m \u001b[0mplt\u001b[0m\u001b[0;34m.\u001b[0m\u001b[0mtitle\u001b[0m\u001b[0;34m(\u001b[0m\u001b[0;34m'Evolução do número de internações por UF e região'\u001b[0m\u001b[0;34m)\u001b[0m\u001b[0;34m\u001b[0m\u001b[0;34m\u001b[0m\u001b[0m\n\u001b[0m\u001b[1;32m      2\u001b[0m \u001b[0;34m\u001b[0m\u001b[0m\n\u001b[1;32m      3\u001b[0m \u001b[0mplt\u001b[0m\u001b[0;34m.\u001b[0m\u001b[0msubplot\u001b[0m\u001b[0;34m(\u001b[0m\u001b[0;36m5\u001b[0m\u001b[0;34m,\u001b[0m\u001b[0;36m1\u001b[0m\u001b[0;34m,\u001b[0m\u001b[0;36m1\u001b[0m\u001b[0;34m)\u001b[0m\u001b[0;34m\u001b[0m\u001b[0;34m\u001b[0m\u001b[0m\n\u001b[1;32m      4\u001b[0m \u001b[0maux\u001b[0m \u001b[0;34m=\u001b[0m \u001b[0mdf4\u001b[0m\u001b[0;34m[\u001b[0m\u001b[0;34m[\u001b[0m\u001b[0;34m'data'\u001b[0m\u001b[0;34m,\u001b[0m \u001b[0;34m'regiao'\u001b[0m\u001b[0;34m,\u001b[0m \u001b[0;34m'uf'\u001b[0m\u001b[0;34m,\u001b[0m \u001b[0;34m'internacoes'\u001b[0m\u001b[0;34m]\u001b[0m\u001b[0;34m]\u001b[0m\u001b[0;34m.\u001b[0m\u001b[0mgroupby\u001b[0m\u001b[0;34m(\u001b[0m\u001b[0;34m[\u001b[0m\u001b[0;34m'data'\u001b[0m\u001b[0;34m,\u001b[0m\u001b[0;34m'regiao'\u001b[0m\u001b[0;34m,\u001b[0m \u001b[0;34m'uf'\u001b[0m\u001b[0;34m]\u001b[0m\u001b[0;34m)\u001b[0m\u001b[0;34m.\u001b[0m\u001b[0msum\u001b[0m\u001b[0;34m(\u001b[0m\u001b[0;34m)\u001b[0m\u001b[0;34m.\u001b[0m\u001b[0mreset_index\u001b[0m\u001b[0;34m(\u001b[0m\u001b[0;34m)\u001b[0m\u001b[0;34m\u001b[0m\u001b[0;34m\u001b[0m\u001b[0m\n\u001b[1;32m      5\u001b[0m \u001b[0maux\u001b[0m \u001b[0;34m=\u001b[0m \u001b[0maux\u001b[0m\u001b[0;34m[\u001b[0m\u001b[0maux\u001b[0m\u001b[0;34m[\u001b[0m\u001b[0;34m'regiao'\u001b[0m\u001b[0;34m]\u001b[0m \u001b[0;34m==\u001b[0m \u001b[0;34m'sul'\u001b[0m\u001b[0;34m]\u001b[0m\u001b[0;34m\u001b[0m\u001b[0;34m\u001b[0m\u001b[0m\n",
      "\u001b[0;31mNameError\u001b[0m: name 'plt' is not defined"
     ]
    }
   ],
   "source": [
    "plt.title('Evolução do número de internações por UF e região')\n",
    "\n",
    "plt.subplot(5,1,1)\n",
    "aux = df4[['data', 'regiao', 'uf', 'internacoes']].groupby(['data','regiao', 'uf']).sum().reset_index()\n",
    "aux = aux[aux['regiao'] == 'sul']\n",
    "sns.lineplot(x='data', y='internacoes', hue='uf', data=aux)\n",
    "\n",
    "\n",
    "plt.subplot(5,1,2)\n",
    "aux = df4[['data', 'regiao', 'uf', 'internacoes']].groupby(['data','regiao', 'uf']).sum().reset_index()\n",
    "aux = aux[aux['regiao'] == 'sudeste']\n",
    "sns.lineplot(x='data', y='internacoes', hue='uf', data=aux)\n",
    "\n",
    "plt.subplot(5,1,3)\n",
    "aux = df4[['data', 'regiao', 'uf', 'internacoes']].groupby(['data','regiao', 'uf']).sum().reset_index()\n",
    "aux = aux[aux['regiao'] == 'centro-oeste']\n",
    "sns.lineplot(x='data', y='internacoes', hue='uf', data=aux)\n",
    "\n",
    "plt.subplot(5,1,4)\n",
    "aux = df4[['data', 'regiao', 'uf', 'internacoes']].groupby(['data','regiao', 'uf']).sum().reset_index()\n",
    "aux = aux[aux['regiao'] == 'nordeste']\n",
    "sns.lineplot(x='data', y='internacoes', hue='uf', data=aux)\n",
    "\n",
    "plt.subplot(5,1,5)\n",
    "aux = df4[['data', 'regiao', 'uf', 'internacoes']].groupby(['data','regiao', 'uf']).sum().reset_index()\n",
    "aux = aux[aux['regiao'] == 'norte']\n",
    "sns.lineplot(x='data', y='internacoes', hue='uf', data=aux);"
   ]
  },
  {
   "cell_type": "markdown",
   "id": "c75ce552",
   "metadata": {
    "heading_collapsed": true,
    "hidden": true
   },
   "source": [
    "## RESUMO DOS PRINCIPAIS INSIGHTS"
   ]
  },
  {
   "cell_type": "markdown",
   "id": "76635bdb",
   "metadata": {
    "hidden": true
   },
   "source": [
    "- A região Sudeste, por ser a mais populosa do país, concentra o maior número absoluto de internações e, consequentemente, com gastos para pagamentos das internações (mais de 50% do valor total gasto em internações do Brasil são de São Paulo);\n",
    "- A região Sudeste é a que mais tem repasses do governo global para complemento de pagamentos de serviços hospitalares e profissionais da saúde. Porém Goiás, Bahia e Rio de Janeiro são os que mais recebem complementos federais em relação aos valores totais das internações. Interessante perceber que os meses cuja média de complementos federais são maiores não correspondem aos meses em que os valores totais são maiores;\n",
    "- A região centro-oeste é a que tem mais repasses do gestor (estadual ou municipal) comparado com o valor total, com destaque novamente para o Goiás;\n",
    "- Em dezembro de 2017 a região nordeste teve um grande repasse dos gestores;\n",
    "- A região Sul é a que tem o maior valor médio gasto por internação, com destaque para o Paraná;\n",
    "- A região Sul é a que tem mais leitos ocupados por 100 mil habitantes. Essa informação deve ser comparada com a disponibilidade de leitos para melhor planejamento estratégico; \n",
    "- O tempo médio de permanência em internação é maior na região sudeste, com destaque para o Rio de Janeiro;\n",
    "- A taxa de mortalidade é maior na região Sudeste, com destaque ṕara o Rio de Janeiro;\n",
    "- São Paulo, Rio de Janeiro e Alagoas apresentam elevada taxa de prorrogração de internações;\n",
    "- Durante o inverno, há um aumento no número médio de internações para alguns estados, assim como no tempo médio de internação;\n",
    "- Todos os estados tem comportamento semelhante do número de internações no tempo\n",
    "\n",
    "<p><b>Conclusão:</b> Além do número de internações, é preciso observar outros aspectos da gestão. Algumas perguntas para investigações mais profundas podem ser feitas, como por exemplo:\n",
    "    \n",
    "    - Por que no Rio de Janeiro tanto o tempo de internação quanto o número de prorrogações e taxa de mortalidade são mais altos? Os casos são mais complexos? Há equipamentos suficientes para atender a população?\n",
    "    - Por que a região sul tem um valor médio pago por internação maiores? Complexidade dos procedimentos?\n",
    "    - Por que em agosto de 2018 a taxa de mortalidade média caiu em todas as regiões, exceto na região sul?\n",
    "    - Quais as possíveis causas da média do número de internações aumentar nos meses de inverno? \n",
    "    \n",
    "    \n"
   ]
  },
  {
   "cell_type": "markdown",
   "id": "3fd203c0",
   "metadata": {
    "heading_collapsed": true
   },
   "source": [
    "# 5.0 Preparação dos dados"
   ]
  },
  {
   "cell_type": "code",
   "execution_count": null,
   "id": "60da02bc",
   "metadata": {
    "ExecuteTime": {
     "end_time": "2021-11-11T04:13:48.052573Z",
     "start_time": "2021-11-11T04:13:48.052563Z"
    },
    "hidden": true
   },
   "outputs": [],
   "source": [
    "df5 = df4.copy()"
   ]
  },
  {
   "cell_type": "code",
   "execution_count": null,
   "id": "56a8ea78",
   "metadata": {
    "ExecuteTime": {
     "end_time": "2021-11-11T04:13:48.053341Z",
     "start_time": "2021-11-11T04:13:48.053331Z"
    },
    "hidden": true
   },
   "outputs": [],
   "source": [
    "#duas maneiras (existem várias) -- média móvel, autoregressão, trazer o próximo valor, média do dataset"
   ]
  },
  {
   "cell_type": "markdown",
   "id": "1acffcde",
   "metadata": {
    "hidden": true
   },
   "source": [
    "## 5.1 Imputação de dados com a média móvel"
   ]
  },
  {
   "cell_type": "code",
   "execution_count": 11,
   "id": "97c7810d",
   "metadata": {
    "ExecuteTime": {
     "end_time": "2021-11-11T04:13:48.090331Z",
     "start_time": "2021-11-11T04:13:48.074297Z"
    },
    "hidden": true
   },
   "outputs": [
    {
     "ename": "NameError",
     "evalue": "name 'df5' is not defined",
     "output_type": "error",
     "traceback": [
      "\u001b[0;31m---------------------------------------------------------------------------\u001b[0m",
      "\u001b[0;31mNameError\u001b[0m                                 Traceback (most recent call last)",
      "\u001b[0;32m/tmp/ipykernel_71176/2111707123.py\u001b[0m in \u001b[0;36m<module>\u001b[0;34m\u001b[0m\n\u001b[0;32m----> 1\u001b[0;31m \u001b[0mdf5\u001b[0m\u001b[0;34m.\u001b[0m\u001b[0mhead\u001b[0m\u001b[0;34m(\u001b[0m\u001b[0;34m)\u001b[0m\u001b[0;34m\u001b[0m\u001b[0;34m\u001b[0m\u001b[0m\n\u001b[0m",
      "\u001b[0;31mNameError\u001b[0m: name 'df5' is not defined"
     ]
    }
   ],
   "source": [
    "df5.head()"
   ]
  },
  {
   "cell_type": "code",
   "execution_count": null,
   "id": "fff7d901",
   "metadata": {
    "ExecuteTime": {
     "end_time": "2021-11-11T04:13:48.091635Z",
     "start_time": "2021-11-11T04:13:48.091624Z"
    },
    "hidden": true
   },
   "outputs": [],
   "source": [
    "df_media_movel = pd.DataFrame(columns=df5.columns)\n",
    "uf = list(df5['uf'].unique())\n",
    "\n",
    "for i in range(0,len(uf)):\n",
    "    df_uf = df5.loc[df5['uf'] == uf[i]]\n",
    "    df_uf = df_uf.fillna(df_uf[['internacoes', 'valor_total', 'valor_medio_aih', 'obitos']].rolling(6, min_periods=0).mean())\n",
    "    df_media_movel = pd.concat([df_media_movel,df_uf])\n",
    "#df_teste = df5.loc[df5['uf'] == 'SP']"
   ]
  },
  {
   "cell_type": "code",
   "execution_count": 12,
   "id": "e7eb745b",
   "metadata": {
    "ExecuteTime": {
     "end_time": "2021-11-11T04:13:48.116984Z",
     "start_time": "2021-11-11T04:13:48.094692Z"
    },
    "hidden": true
   },
   "outputs": [
    {
     "ename": "NameError",
     "evalue": "name 'sns' is not defined",
     "output_type": "error",
     "traceback": [
      "\u001b[0;31m---------------------------------------------------------------------------\u001b[0m",
      "\u001b[0;31mNameError\u001b[0m                                 Traceback (most recent call last)",
      "\u001b[0;32m/tmp/ipykernel_71176/3087067257.py\u001b[0m in \u001b[0;36m<module>\u001b[0;34m\u001b[0m\n\u001b[0;32m----> 1\u001b[0;31m \u001b[0msns\u001b[0m\u001b[0;34m.\u001b[0m\u001b[0mlineplot\u001b[0m\u001b[0;34m(\u001b[0m\u001b[0mx\u001b[0m\u001b[0;34m=\u001b[0m\u001b[0;34m'data'\u001b[0m\u001b[0;34m,\u001b[0m \u001b[0my\u001b[0m\u001b[0;34m=\u001b[0m\u001b[0;34m'internacoes'\u001b[0m\u001b[0;34m,\u001b[0m \u001b[0mdata\u001b[0m\u001b[0;34m=\u001b[0m\u001b[0mdf_media_movel\u001b[0m\u001b[0;34m.\u001b[0m\u001b[0mgroupby\u001b[0m\u001b[0;34m(\u001b[0m\u001b[0;34m'data'\u001b[0m\u001b[0;34m)\u001b[0m\u001b[0;34m.\u001b[0m\u001b[0msum\u001b[0m\u001b[0;34m(\u001b[0m\u001b[0;34m)\u001b[0m\u001b[0;34m.\u001b[0m\u001b[0mreset_index\u001b[0m\u001b[0;34m(\u001b[0m\u001b[0;34m)\u001b[0m\u001b[0;34m)\u001b[0m\u001b[0;34m\u001b[0m\u001b[0;34m\u001b[0m\u001b[0m\n\u001b[0m",
      "\u001b[0;31mNameError\u001b[0m: name 'sns' is not defined"
     ]
    }
   ],
   "source": [
    "sns.lineplot(x='data', y='internacoes', data=df_media_movel.groupby('data').sum().reset_index())"
   ]
  },
  {
   "cell_type": "markdown",
   "id": "fb62a4b0",
   "metadata": {},
   "source": [
    "# 6.0 Modelagem dos dados"
   ]
  },
  {
   "cell_type": "code",
   "execution_count": 13,
   "id": "952cde5b",
   "metadata": {
    "ExecuteTime": {
     "end_time": "2021-11-11T04:13:48.140783Z",
     "start_time": "2021-11-11T04:13:48.121860Z"
    }
   },
   "outputs": [
    {
     "ename": "NameError",
     "evalue": "name 'df_media_movel' is not defined",
     "output_type": "error",
     "traceback": [
      "\u001b[0;31m---------------------------------------------------------------------------\u001b[0m",
      "\u001b[0;31mNameError\u001b[0m                                 Traceback (most recent call last)",
      "\u001b[0;32m/tmp/ipykernel_71176/1572816209.py\u001b[0m in \u001b[0;36m<module>\u001b[0;34m\u001b[0m\n\u001b[0;32m----> 1\u001b[0;31m \u001b[0mdf6\u001b[0m \u001b[0;34m=\u001b[0m \u001b[0mdf_media_movel\u001b[0m\u001b[0;34m[\u001b[0m\u001b[0;34m[\u001b[0m\u001b[0;34m'data'\u001b[0m\u001b[0;34m,\u001b[0m \u001b[0;34m'internacoes'\u001b[0m\u001b[0;34m,\u001b[0m \u001b[0;34m'obitos'\u001b[0m\u001b[0;34m]\u001b[0m\u001b[0;34m]\u001b[0m\u001b[0;34m.\u001b[0m\u001b[0mgroupby\u001b[0m\u001b[0;34m(\u001b[0m\u001b[0;34m'data'\u001b[0m\u001b[0;34m)\u001b[0m\u001b[0;34m.\u001b[0m\u001b[0msum\u001b[0m\u001b[0;34m(\u001b[0m\u001b[0;34m)\u001b[0m\u001b[0;34m.\u001b[0m\u001b[0mreset_index\u001b[0m\u001b[0;34m(\u001b[0m\u001b[0;34m)\u001b[0m\u001b[0;34m\u001b[0m\u001b[0;34m\u001b[0m\u001b[0m\n\u001b[0m\u001b[1;32m      2\u001b[0m \u001b[0mdf6\u001b[0m\u001b[0;34m.\u001b[0m\u001b[0mhead\u001b[0m\u001b[0;34m(\u001b[0m\u001b[0;34m)\u001b[0m\u001b[0;34m\u001b[0m\u001b[0;34m\u001b[0m\u001b[0m\n",
      "\u001b[0;31mNameError\u001b[0m: name 'df_media_movel' is not defined"
     ]
    }
   ],
   "source": [
    "df6 = df_media_movel[['data', 'internacoes', 'obitos']].groupby('data').sum().reset_index()\n",
    "df6.head()"
   ]
  },
  {
   "cell_type": "markdown",
   "id": "45fb8e90",
   "metadata": {},
   "source": [
    "## 6.1 Internações"
   ]
  },
  {
   "cell_type": "code",
   "execution_count": null,
   "id": "4bf27311",
   "metadata": {
    "ExecuteTime": {
     "end_time": "2021-11-11T04:13:48.146187Z",
     "start_time": "2021-11-11T04:13:48.146165Z"
    }
   },
   "outputs": [],
   "source": [
    "df6_internacoes = df6[['data','internacoes']]\n",
    "\n",
    "df6_internacoes.index = df6_internacoes['data']\n",
    "df6_internacoes = df6_internacoes.drop(columns=['data'])\n",
    "\n",
    "df6_internacoes.head()\n",
    "\n",
    "#teste de estacionariedade\n",
    "dftest = adfuller(df6_internacoes, autolag='AIC')\n",
    "dfoutput = pd.Series(dftest[0:4], index=['Teste', 'Valor p', 'No de lags', 'No de observações'])\n",
    "dfoutput\n",
    "\n",
    "\n",
    "\n",
    "stepwise_model = auto_arima(df6_internacoes, start_p=1, start_q=1, max_q=6, m=6, seasonal=True, d=1, D=1, trace=True, error_action='ignore',\n",
    "                            suppress_warnings=True, stepwise=True)\n",
    "\n",
    "print(stepwise_model.aic())\n",
    "\n",
    "train = df6_internacoes.loc['2017-12-01':'2019-02-01']\n",
    "test = df6_internacoes.loc['2019-02-01':]\n",
    "\n",
    "stepwise_model.fit(train)\n",
    "\n",
    "future_forecast = stepwise_model.predict(n_periods=6)\n",
    "\n",
    "\n",
    "future_forecast = pd.DataFrame(future_forecast,index = test.index,columns=['internacoes'])\n",
    "df6_internacoes_prev = pd.concat([test,future_forecast],axis=1)\n",
    "\n",
    "df6_internacoes_prev.columns = ['real', 'previsto']\n",
    "df6_internacoes_prev['erro absoluto'] = df6_internacoes_prev['previsto'] - df6_internacoes_prev['real'] \n",
    "df6_internacoes_prev['erro percentual'] = ( df6_internacoes_prev['previsto'] - df6_internacoes_prev['real'] ) / df6_internacoes_prev['real'] *100\n",
    "MAPE = df6_internacoes_prev['erro percentual'].mean()\n",
    "print(MAPE)\n",
    "\n",
    "df6_internacoes_prev"
   ]
  },
  {
   "cell_type": "markdown",
   "id": "b6719fa1",
   "metadata": {},
   "source": [
    "## 6.2 Óbitos"
   ]
  },
  {
   "cell_type": "code",
   "execution_count": 14,
   "id": "5320378a",
   "metadata": {
    "ExecuteTime": {
     "end_time": "2021-11-11T04:13:48.185491Z",
     "start_time": "2021-11-11T04:13:48.156508Z"
    }
   },
   "outputs": [
    {
     "ename": "NameError",
     "evalue": "name 'df6' is not defined",
     "output_type": "error",
     "traceback": [
      "\u001b[0;31m---------------------------------------------------------------------------\u001b[0m",
      "\u001b[0;31mNameError\u001b[0m                                 Traceback (most recent call last)",
      "\u001b[0;32m/tmp/ipykernel_71176/2045182276.py\u001b[0m in \u001b[0;36m<module>\u001b[0;34m\u001b[0m\n\u001b[0;32m----> 1\u001b[0;31m \u001b[0mdf6_obitos\u001b[0m \u001b[0;34m=\u001b[0m \u001b[0mdf6\u001b[0m\u001b[0;34m[\u001b[0m\u001b[0;34m[\u001b[0m\u001b[0;34m'data'\u001b[0m\u001b[0;34m,\u001b[0m\u001b[0;34m'obitos'\u001b[0m\u001b[0;34m]\u001b[0m\u001b[0;34m]\u001b[0m\u001b[0;34m\u001b[0m\u001b[0;34m\u001b[0m\u001b[0m\n\u001b[0m\u001b[1;32m      2\u001b[0m \u001b[0;34m\u001b[0m\u001b[0m\n\u001b[1;32m      3\u001b[0m \u001b[0mdf6_obitos\u001b[0m\u001b[0;34m.\u001b[0m\u001b[0mindex\u001b[0m \u001b[0;34m=\u001b[0m \u001b[0mdf6_obitos\u001b[0m\u001b[0;34m[\u001b[0m\u001b[0;34m'data'\u001b[0m\u001b[0;34m]\u001b[0m\u001b[0;34m\u001b[0m\u001b[0;34m\u001b[0m\u001b[0m\n\u001b[1;32m      4\u001b[0m \u001b[0mdf6_obitos\u001b[0m \u001b[0;34m=\u001b[0m \u001b[0mdf6_obitos\u001b[0m\u001b[0;34m.\u001b[0m\u001b[0mdrop\u001b[0m\u001b[0;34m(\u001b[0m\u001b[0mcolumns\u001b[0m\u001b[0;34m=\u001b[0m\u001b[0;34m[\u001b[0m\u001b[0;34m'data'\u001b[0m\u001b[0;34m]\u001b[0m\u001b[0;34m)\u001b[0m\u001b[0;34m\u001b[0m\u001b[0;34m\u001b[0m\u001b[0m\n\u001b[1;32m      5\u001b[0m \u001b[0;34m\u001b[0m\u001b[0m\n",
      "\u001b[0;31mNameError\u001b[0m: name 'df6' is not defined"
     ]
    }
   ],
   "source": [
    "df6_obitos = df6[['data','obitos']]\n",
    "\n",
    "df6_obitos.index = df6_obitos['data']\n",
    "df6_obitos = df6_obitos.drop(columns=['data'])\n",
    "\n",
    "df6_obitos.head()\n",
    "\n",
    "#teste de estacionariedade\n",
    "dftest = adfuller(df6_obitos, autolag='AIC')\n",
    "dfoutput = pd.Series(dftest[0:4], index=['Teste', 'Valor p', 'No de lags', 'No de observações'])\n",
    "dfoutput\n",
    "\n",
    "\n",
    "\n",
    "stepwise_model = auto_arima(df6_obitos, start_p=1, start_q=1, max_q=6, m=6, seasonal=True, d=1, D=1, trace=True, error_action='ignore',\n",
    "                            suppress_warnings=True, stepwise=True)\n",
    "\n",
    "print(stepwise_model.aic())\n",
    "\n",
    "train = df6_obitos.loc['2017-12-01':'2019-02-01']\n",
    "test = df6_obitos.loc['2019-02-01':]\n",
    "\n",
    "stepwise_model.fit(train)\n",
    "\n",
    "future_forecast = stepwise_model.predict(n_periods=6)\n",
    "\n",
    "\n",
    "future_forecast = pd.DataFrame(future_forecast,index = test.index,columns=['obitos'])\n",
    "df6_obitos_prev = pd.concat([test,future_forecast],axis=1)\n",
    "\n",
    "df6_obitos_prev.columns = ['real', 'previsto']\n",
    "df6_obitos_prev['erro absoluto'] = df6_obitos_prev['previsto'] - df6_obitos_prev['real'] \n",
    "df6_obitos_prev['erro percentual'] = ( df6_obitos_prev['previsto'] - df6_obitos_prev['real'] ) / df6_obitos_prev['real'] *100\n",
    "MAPE = df6_obitos_prev['erro percentual'].mean()\n",
    "print(MAPE)\n",
    "\n",
    "df6_obitos_prev"
   ]
  },
  {
   "cell_type": "markdown",
   "id": "9257865b",
   "metadata": {},
   "source": [
    "## 6.3 Valor médio por AIH"
   ]
  },
  {
   "cell_type": "code",
   "execution_count": null,
   "id": "c3e5cd42",
   "metadata": {
    "ExecuteTime": {
     "end_time": "2021-11-11T04:13:48.187720Z",
     "start_time": "2021-11-11T04:13:48.187707Z"
    },
    "scrolled": true
   },
   "outputs": [],
   "source": [
    "df6_valor_medio_aih = df_media_movel[['data', 'valor_medio_aih']].groupby('data').mean()\n",
    "\n",
    "df6_valor_medio_aih.head()\n",
    "\n",
    "#teste de estacionariedade\n",
    "dftest = adfuller(df6_valor_medio_aih, autolag='AIC')\n",
    "dfoutput = pd.Series(dftest[0:4], index=['Teste', 'Valor p', 'No de lags', 'No de observações'])\n",
    "dfoutput\n",
    "\n",
    "\n",
    "\n",
    "stepwise_model = auto_arima(df6_valor_medio_aih, start_p=1, start_q=1, max_q=6, m=6, seasonal=True, d=1, D=1, trace=True, error_action='ignore',\n",
    "                            suppress_warnings=True, stepwise=True)\n",
    "\n",
    "print(stepwise_model.aic())\n",
    "\n",
    "train = df6_valor_medio_aih.loc['2017-12-01':'2019-02-01']\n",
    "test = df6_valor_medio_aih.loc['2019-02-01':]\n",
    "\n",
    "stepwise_model.fit(train)\n",
    "\n",
    "future_forecast = stepwise_model.predict(n_periods=6)\n",
    "\n",
    "\n",
    "future_forecast = pd.DataFrame(future_forecast,index = test.index,columns=['valor_medio_aih'])\n",
    "df6_valor_medio_aih_prev = pd.concat([test,future_forecast],axis=1)\n",
    "\n",
    "df6_valor_medio_aih_prev.columns = ['real', 'previsto']\n",
    "df6_valor_medio_aih_prev['erro absoluto'] = df6_valor_medio_aih_prev['previsto'] - df6_valor_medio_aih_prev['real'] \n",
    "df6_valor_medio_aih_prev['erro percentual'] = ( df6_valor_medio_aih_prev['previsto'] - df6_valor_medio_aih_prev['real'] ) / df6_valor_medio_aih_prev['real'] *100\n",
    "MAPE = df6_valor_medio_aih_prev['erro percentual'].mean()\n",
    "print(MAPE)\n",
    "\n",
    "df6_valor_medio_aih_prev"
   ]
  },
  {
   "cell_type": "markdown",
   "id": "fb9321b2",
   "metadata": {},
   "source": [
    "# 7.0 Previsões e avaliações finais"
   ]
  },
  {
   "cell_type": "code",
   "execution_count": null,
   "id": "83e787e7",
   "metadata": {
    "ExecuteTime": {
     "end_time": "2021-11-11T04:13:48.189978Z",
     "start_time": "2021-11-11T04:13:48.189968Z"
    }
   },
   "outputs": [],
   "source": [
    "df7 = df_media_movel[['data', 'internacoes', 'obitos']].groupby('data').sum().reset_index()\n",
    "df7.head()"
   ]
  },
  {
   "cell_type": "markdown",
   "id": "b7d9fee7",
   "metadata": {},
   "source": [
    "## 6.1 Internações"
   ]
  },
  {
   "cell_type": "code",
   "execution_count": 15,
   "id": "386bd43a",
   "metadata": {
    "ExecuteTime": {
     "end_time": "2021-11-11T04:13:48.217385Z",
     "start_time": "2021-11-11T04:13:48.196986Z"
    }
   },
   "outputs": [
    {
     "ename": "NameError",
     "evalue": "name 'df7' is not defined",
     "output_type": "error",
     "traceback": [
      "\u001b[0;31m---------------------------------------------------------------------------\u001b[0m",
      "\u001b[0;31mNameError\u001b[0m                                 Traceback (most recent call last)",
      "\u001b[0;32m/tmp/ipykernel_71176/1498347276.py\u001b[0m in \u001b[0;36m<module>\u001b[0;34m\u001b[0m\n\u001b[0;32m----> 1\u001b[0;31m \u001b[0mdf7_internacoes\u001b[0m \u001b[0;34m=\u001b[0m \u001b[0mdf7\u001b[0m\u001b[0;34m[\u001b[0m\u001b[0;34m[\u001b[0m\u001b[0;34m'data'\u001b[0m\u001b[0;34m,\u001b[0m\u001b[0;34m'internacoes'\u001b[0m\u001b[0;34m]\u001b[0m\u001b[0;34m]\u001b[0m\u001b[0;34m\u001b[0m\u001b[0;34m\u001b[0m\u001b[0m\n\u001b[0m\u001b[1;32m      2\u001b[0m \u001b[0;34m\u001b[0m\u001b[0m\n\u001b[1;32m      3\u001b[0m \u001b[0mdf7_internacoes\u001b[0m\u001b[0;34m.\u001b[0m\u001b[0mindex\u001b[0m \u001b[0;34m=\u001b[0m \u001b[0mdf7_internacoes\u001b[0m\u001b[0;34m[\u001b[0m\u001b[0;34m'data'\u001b[0m\u001b[0;34m]\u001b[0m\u001b[0;34m\u001b[0m\u001b[0;34m\u001b[0m\u001b[0m\n\u001b[1;32m      4\u001b[0m \u001b[0mdf7_internacoes\u001b[0m \u001b[0;34m=\u001b[0m \u001b[0mdf7_internacoes\u001b[0m\u001b[0;34m.\u001b[0m\u001b[0mdrop\u001b[0m\u001b[0;34m(\u001b[0m\u001b[0mcolumns\u001b[0m\u001b[0;34m=\u001b[0m\u001b[0;34m[\u001b[0m\u001b[0;34m'data'\u001b[0m\u001b[0;34m]\u001b[0m\u001b[0;34m)\u001b[0m\u001b[0;34m\u001b[0m\u001b[0;34m\u001b[0m\u001b[0m\n\u001b[1;32m      5\u001b[0m \u001b[0;34m\u001b[0m\u001b[0m\n",
      "\u001b[0;31mNameError\u001b[0m: name 'df7' is not defined"
     ]
    }
   ],
   "source": [
    "df7_internacoes = df7[['data','internacoes']]\n",
    "\n",
    "df7_internacoes.index = df7_internacoes['data']\n",
    "df7_internacoes = df7_internacoes.drop(columns=['data'])\n",
    "\n",
    "df7_internacoes.head()\n",
    "\n",
    "#teste de estacionariedade\n",
    "dftest = adfuller(df7_internacoes, autolag='AIC')\n",
    "dfoutput = pd.Series(dftest[0:4], index=['Teste', 'Valor p', 'No de lags', 'No de observações'])\n",
    "dfoutput\n",
    "\n",
    "\n",
    "\n",
    "stepwise_model = auto_arima(df7_internacoes, start_p=1, start_q=1, max_q=6, m=6, seasonal=True, d=1, D=1, trace=True, error_action='ignore',\n",
    "                            suppress_warnings=True, stepwise=True)\n",
    "\n",
    "print(stepwise_model.aic())\n",
    "\n",
    "stepwise_model.fit(df7_internacoes)\n",
    "\n",
    "future_forecast = stepwise_model.predict(n_periods=6)\n",
    "\n",
    "\n",
    "future_forecast_int = pd.DataFrame(future_forecast, index=data_prev, columns=['previsao_internacoes'])\n",
    "\n",
    "future_forecast_int"
   ]
  },
  {
   "cell_type": "code",
   "execution_count": null,
   "id": "6d444f4e",
   "metadata": {
    "ExecuteTime": {
     "end_time": "2021-11-11T04:13:48.220569Z",
     "start_time": "2021-11-11T04:13:48.220554Z"
    }
   },
   "outputs": [],
   "source": [
    "data_prev = ['2019-08-01', '2019-09-01', '2019-10-01', '2019-11-01', '2019-12-01', '2020-01-01']"
   ]
  },
  {
   "cell_type": "markdown",
   "id": "bcec0116",
   "metadata": {},
   "source": [
    "## 6.2 Óbitos"
   ]
  },
  {
   "cell_type": "code",
   "execution_count": 16,
   "id": "2267d295",
   "metadata": {
    "ExecuteTime": {
     "end_time": "2021-11-11T04:13:48.245935Z",
     "start_time": "2021-11-11T04:13:48.226768Z"
    }
   },
   "outputs": [
    {
     "ename": "NameError",
     "evalue": "name 'df7' is not defined",
     "output_type": "error",
     "traceback": [
      "\u001b[0;31m---------------------------------------------------------------------------\u001b[0m",
      "\u001b[0;31mNameError\u001b[0m                                 Traceback (most recent call last)",
      "\u001b[0;32m/tmp/ipykernel_71176/2620226659.py\u001b[0m in \u001b[0;36m<module>\u001b[0;34m\u001b[0m\n\u001b[0;32m----> 1\u001b[0;31m \u001b[0mdf7_obitos\u001b[0m \u001b[0;34m=\u001b[0m \u001b[0mdf7\u001b[0m\u001b[0;34m[\u001b[0m\u001b[0;34m[\u001b[0m\u001b[0;34m'data'\u001b[0m\u001b[0;34m,\u001b[0m\u001b[0;34m'obitos'\u001b[0m\u001b[0;34m]\u001b[0m\u001b[0;34m]\u001b[0m\u001b[0;34m\u001b[0m\u001b[0;34m\u001b[0m\u001b[0m\n\u001b[0m\u001b[1;32m      2\u001b[0m \u001b[0;34m\u001b[0m\u001b[0m\n\u001b[1;32m      3\u001b[0m \u001b[0mdf7_obitos\u001b[0m\u001b[0;34m.\u001b[0m\u001b[0mindex\u001b[0m \u001b[0;34m=\u001b[0m \u001b[0mdf7_obitos\u001b[0m\u001b[0;34m[\u001b[0m\u001b[0;34m'data'\u001b[0m\u001b[0;34m]\u001b[0m\u001b[0;34m\u001b[0m\u001b[0;34m\u001b[0m\u001b[0m\n\u001b[1;32m      4\u001b[0m \u001b[0mdf7_obitos\u001b[0m \u001b[0;34m=\u001b[0m \u001b[0mdf7_obitos\u001b[0m\u001b[0;34m.\u001b[0m\u001b[0mdrop\u001b[0m\u001b[0;34m(\u001b[0m\u001b[0mcolumns\u001b[0m\u001b[0;34m=\u001b[0m\u001b[0;34m[\u001b[0m\u001b[0;34m'data'\u001b[0m\u001b[0;34m]\u001b[0m\u001b[0;34m)\u001b[0m\u001b[0;34m\u001b[0m\u001b[0;34m\u001b[0m\u001b[0m\n\u001b[1;32m      5\u001b[0m \u001b[0;34m\u001b[0m\u001b[0m\n",
      "\u001b[0;31mNameError\u001b[0m: name 'df7' is not defined"
     ]
    }
   ],
   "source": [
    "df7_obitos = df7[['data','obitos']]\n",
    "\n",
    "df7_obitos.index = df7_obitos['data']\n",
    "df7_obitos = df7_obitos.drop(columns=['data'])\n",
    "\n",
    "df7_obitos.head()\n",
    "\n",
    "#teste de estacionariedade\n",
    "dftest = adfuller(df7_obitos, autolag='AIC')\n",
    "dfoutput = pd.Series(dftest[0:4], index=['Teste', 'Valor p', 'No de lags', 'No de observações'])\n",
    "dfoutput\n",
    "\n",
    "\n",
    "\n",
    "stepwise_model = auto_arima(df7_obitos, start_p=1, start_q=1, max_q=6, m=6, seasonal=True, d=1, D=1, trace=True, error_action='ignore',\n",
    "                            suppress_warnings=True, stepwise=True)\n",
    "\n",
    "print(stepwise_model.aic())\n",
    "\n",
    "stepwise_model.fit(df7_obitos)\n",
    "\n",
    "future_forecast = stepwise_model.predict(n_periods=6)\n",
    "\n",
    "\n",
    "future_forecast_obito = pd.DataFrame(future_forecast, index=data_prev, columns=['previsao_obitos'])\n",
    "\n",
    "future_forecast_obito"
   ]
  },
  {
   "cell_type": "markdown",
   "id": "92ac4fd4",
   "metadata": {},
   "source": [
    "## 6.3 Valor médio por AIH"
   ]
  },
  {
   "cell_type": "code",
   "execution_count": null,
   "id": "0a7dd48b",
   "metadata": {
    "ExecuteTime": {
     "end_time": "2021-11-11T04:13:48.253601Z",
     "start_time": "2021-11-11T04:13:48.253585Z"
    },
    "scrolled": false
   },
   "outputs": [],
   "source": [
    "df7_valor_medio_aih = df_media_movel[['data', 'valor_medio_aih']].groupby('data').mean()\n",
    "\n",
    "df7_valor_medio_aih.head()\n",
    "\n",
    "#teste de estacionariedade\n",
    "dftest = adfuller(df7_valor_medio_aih, autolag='AIC')\n",
    "dfoutput = pd.Series(dftest[0:4], index=['Teste', 'Valor p', 'No de lags', 'No de observações'])\n",
    "dfoutput\n",
    "\n",
    "\n",
    "\n",
    "stepwise_model = auto_arima(df7_valor_medio_aih, start_p=1, start_q=1, max_q=6, m=6, seasonal=True, d=1, D=1, trace=True, error_action='ignore',\n",
    "                            suppress_warnings=True, stepwise=True)\n",
    "\n",
    "print(stepwise_model.aic())\n",
    "\n",
    "stepwise_model.fit(df7_valor_medio_aih)\n",
    "\n",
    "future_forecast = stepwise_model.predict(n_periods=6)\n",
    "\n",
    "\n",
    "future_forecast_aih = pd.DataFrame(future_forecast, index=data_prev, columns=['previsao_valor_medio_aih'])\n",
    "\n",
    "future_forecast_aih"
   ]
  },
  {
   "cell_type": "code",
   "execution_count": 17,
   "id": "748152a6",
   "metadata": {
    "ExecuteTime": {
     "end_time": "2021-11-11T04:13:48.274082Z",
     "start_time": "2021-11-11T04:13:48.258539Z"
    }
   },
   "outputs": [
    {
     "ename": "NameError",
     "evalue": "name 'future_forecast_int' is not defined",
     "output_type": "error",
     "traceback": [
      "\u001b[0;31m---------------------------------------------------------------------------\u001b[0m",
      "\u001b[0;31mNameError\u001b[0m                                 Traceback (most recent call last)",
      "\u001b[0;32m/tmp/ipykernel_71176/1412066496.py\u001b[0m in \u001b[0;36m<module>\u001b[0;34m\u001b[0m\n\u001b[0;32m----> 1\u001b[0;31m \u001b[0mfinal_predict\u001b[0m \u001b[0;34m=\u001b[0m \u001b[0mpd\u001b[0m\u001b[0;34m.\u001b[0m\u001b[0mconcat\u001b[0m\u001b[0;34m(\u001b[0m\u001b[0;34m[\u001b[0m\u001b[0mfuture_forecast_int\u001b[0m\u001b[0;34m,\u001b[0m \u001b[0mfuture_forecast_aih\u001b[0m\u001b[0;34m]\u001b[0m\u001b[0;34m,\u001b[0m \u001b[0maxis\u001b[0m\u001b[0;34m=\u001b[0m\u001b[0;36m1\u001b[0m\u001b[0;34m)\u001b[0m\u001b[0;34m\u001b[0m\u001b[0;34m\u001b[0m\u001b[0m\n\u001b[0m\u001b[1;32m      2\u001b[0m \u001b[0mfinal_predict\u001b[0m\u001b[0;34m[\u001b[0m\u001b[0;34m'orcamento_bilhao_R$'\u001b[0m\u001b[0;34m]\u001b[0m \u001b[0;34m=\u001b[0m \u001b[0mfinal_predict\u001b[0m\u001b[0;34m[\u001b[0m\u001b[0;34m'previsao_internacoes'\u001b[0m\u001b[0;34m]\u001b[0m \u001b[0;34m*\u001b[0m \u001b[0mfinal_predict\u001b[0m\u001b[0;34m[\u001b[0m\u001b[0;34m'previsao_valor_medio_aih'\u001b[0m\u001b[0;34m]\u001b[0m \u001b[0;34m/\u001b[0m \u001b[0;36m10\u001b[0m\u001b[0;34m**\u001b[0m\u001b[0;36m9\u001b[0m\u001b[0;34m\u001b[0m\u001b[0;34m\u001b[0m\u001b[0m\n\u001b[1;32m      3\u001b[0m \u001b[0mfinal_predict\u001b[0m\u001b[0;34m\u001b[0m\u001b[0;34m\u001b[0m\u001b[0m\n",
      "\u001b[0;31mNameError\u001b[0m: name 'future_forecast_int' is not defined"
     ]
    }
   ],
   "source": [
    "final_predict = pd.concat([future_forecast_int, future_forecast_aih], axis=1)\n",
    "final_predict['orcamento_bilhao_R$'] = final_predict['previsao_internacoes'] * final_predict['previsao_valor_medio_aih'] / 10**9\n",
    "final_predict"
   ]
  },
  {
   "cell_type": "code",
   "execution_count": null,
   "id": "fc21af5b",
   "metadata": {
    "ExecuteTime": {
     "end_time": "2021-11-11T04:13:48.281090Z",
     "start_time": "2021-11-11T04:13:48.281075Z"
    }
   },
   "outputs": [],
   "source": [
    "1.000.000.000"
   ]
  }
 ],
 "metadata": {
  "kernelspec": {
   "display_name": "Python 3 (ipykernel)",
   "language": "python",
   "name": "python3"
  },
  "language_info": {
   "codemirror_mode": {
    "name": "ipython",
    "version": 3
   },
   "file_extension": ".py",
   "mimetype": "text/x-python",
   "name": "python",
   "nbconvert_exporter": "python",
   "pygments_lexer": "ipython3",
   "version": "3.8.10"
  }
 },
 "nbformat": 4,
 "nbformat_minor": 5
}
